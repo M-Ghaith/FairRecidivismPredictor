{
 "cells": [
  {
   "cell_type": "markdown",
   "id": "096410c4",
   "metadata": {},
   "source": [
    "# Recidivism Prediction Model Development\n",
    "\n",
    "Our objective in the following notebook is to develop a robust machine learning (ML) model to predict recidivism. \n",
    "\n",
    "Notebook Outline:\n",
    "\n",
    "1. **Data Loading and Preparation:** \n",
    "We begin by loading the dataset and conducting a series of preprocessing steps to prepare our data for modeling. This includes cleaning the data to address any missing or erroneous values, standardizing numerical features to bring them onto a common scale, and selecting the most relevant features.\n",
    "\n",
    "2. **Training Baseline Model:**\n",
    "This step is critical in setting a standard of performance with a simple yet effective logistic regression model. The baseline helps in quantifying improvements as we advance to more complex models and techniques.\n",
    "\n",
    "3. **Testing Different Models, fine-tune evaluate using Nested Cross-Validation:**\n",
    "To ensure the robustness and generalizability of our models, we employ Nested Cross-Validation. This process involves testing various types of models, namely, Support Vector Machines (SVMs), K-Nearest Neighbors, Random Forests, and Gradient Boosting Machines. Repeated Cross-Validation allows us to assess model performance consistently across different folds and repetitions, providing a thorough understanding of the model's reliability and performance. Each selected model will fine-tuned using GridSearchCV. This sophisticated technique enables us to search for the optimal hyperparameters while avoiding the risk of overfitting, as it provides an unbiased evaluation of the model's performance on unseen data.\n",
    "\n",
    "4. **Test the top two winning models using Repeated Croos-Validation:**\n",
    "The top two models based on nested cross-validation accuracy that emerge from the previous step will be evaluated using Repeated Croos-Validation. This method will allow us to assess the models' performances over multiple iterations, ensuring the reliability and stability of their predictive power.\n",
    "\n",
    "**Model Evaluation Metrics**\n",
    "Our evaluation framework will encompass a variety of metrics to comprehensively assess model performance. We will utilize the Area Under the Curve (AUC) and accuracy to measure overall performance, while also examining the confusion matrix to understand the models' prediction distribution across the different classes. Precision and recall will be critical in assessing the models' ability to identify true positives, which is especially important in the context of recidivism. The F1 score will be used as a harmonic mean of precision and recall, providing a single metric that balances both concerns.\n",
    "\n",
    "Alongside traditional performance metrics, we will also compute *statistical parity and equalized odds ratios* to have peak of our models fairness, and we will consolidate all these metrics into a single comprehensive table for convenient analysis and comparison.\n",
    "\n",
    "Let's dive in."
   ]
  },
  {
   "cell_type": "markdown",
   "id": "acc822e6",
   "metadata": {},
   "source": [
    "## 1. Data Loading and Preparation"
   ]
  },
  {
   "cell_type": "code",
   "execution_count": 1,
   "id": "2289553c",
   "metadata": {},
   "outputs": [
    {
     "data": {
      "text/html": [
       "<div>\n",
       "<style scoped>\n",
       "    .dataframe tbody tr th:only-of-type {\n",
       "        vertical-align: middle;\n",
       "    }\n",
       "\n",
       "    .dataframe tbody tr th {\n",
       "        vertical-align: top;\n",
       "    }\n",
       "\n",
       "    .dataframe thead th {\n",
       "        text-align: right;\n",
       "    }\n",
       "</style>\n",
       "<table border=\"1\" class=\"dataframe\">\n",
       "  <thead>\n",
       "    <tr style=\"text-align: right;\">\n",
       "      <th></th>\n",
       "      <th>sex</th>\n",
       "      <th>age</th>\n",
       "      <th>juv_fel_count</th>\n",
       "      <th>juv_misd_count</th>\n",
       "      <th>juv_other_count</th>\n",
       "      <th>priors_count</th>\n",
       "      <th>two_year_recid</th>\n",
       "      <th>age_cat_25-45</th>\n",
       "      <th>age_cat_Greaterthan45</th>\n",
       "      <th>age_cat_Lessthan25</th>\n",
       "      <th>race_African-American</th>\n",
       "      <th>race_Caucasian</th>\n",
       "      <th>c_charge_degree_F</th>\n",
       "      <th>c_charge_degree_M</th>\n",
       "    </tr>\n",
       "  </thead>\n",
       "  <tbody>\n",
       "    <tr>\n",
       "      <th>0</th>\n",
       "      <td>b'1'</td>\n",
       "      <td>34.0</td>\n",
       "      <td>0.0</td>\n",
       "      <td>0.0</td>\n",
       "      <td>0.0</td>\n",
       "      <td>0.0</td>\n",
       "      <td>b'1'</td>\n",
       "      <td>b'1'</td>\n",
       "      <td>b'0'</td>\n",
       "      <td>b'0'</td>\n",
       "      <td>b'1'</td>\n",
       "      <td>b'0'</td>\n",
       "      <td>1.0</td>\n",
       "      <td>0.0</td>\n",
       "    </tr>\n",
       "    <tr>\n",
       "      <th>1</th>\n",
       "      <td>b'1'</td>\n",
       "      <td>24.0</td>\n",
       "      <td>0.0</td>\n",
       "      <td>0.0</td>\n",
       "      <td>1.0</td>\n",
       "      <td>4.0</td>\n",
       "      <td>b'1'</td>\n",
       "      <td>b'0'</td>\n",
       "      <td>b'0'</td>\n",
       "      <td>b'1'</td>\n",
       "      <td>b'1'</td>\n",
       "      <td>b'0'</td>\n",
       "      <td>1.0</td>\n",
       "      <td>0.0</td>\n",
       "    </tr>\n",
       "    <tr>\n",
       "      <th>2</th>\n",
       "      <td>b'1'</td>\n",
       "      <td>41.0</td>\n",
       "      <td>0.0</td>\n",
       "      <td>0.0</td>\n",
       "      <td>0.0</td>\n",
       "      <td>14.0</td>\n",
       "      <td>b'1'</td>\n",
       "      <td>b'1'</td>\n",
       "      <td>b'0'</td>\n",
       "      <td>b'0'</td>\n",
       "      <td>b'0'</td>\n",
       "      <td>b'1'</td>\n",
       "      <td>1.0</td>\n",
       "      <td>0.0</td>\n",
       "    </tr>\n",
       "    <tr>\n",
       "      <th>3</th>\n",
       "      <td>b'0'</td>\n",
       "      <td>39.0</td>\n",
       "      <td>0.0</td>\n",
       "      <td>0.0</td>\n",
       "      <td>0.0</td>\n",
       "      <td>0.0</td>\n",
       "      <td>b'0'</td>\n",
       "      <td>b'1'</td>\n",
       "      <td>b'0'</td>\n",
       "      <td>b'0'</td>\n",
       "      <td>b'0'</td>\n",
       "      <td>b'1'</td>\n",
       "      <td>0.0</td>\n",
       "      <td>1.0</td>\n",
       "    </tr>\n",
       "    <tr>\n",
       "      <th>4</th>\n",
       "      <td>b'1'</td>\n",
       "      <td>27.0</td>\n",
       "      <td>0.0</td>\n",
       "      <td>0.0</td>\n",
       "      <td>0.0</td>\n",
       "      <td>0.0</td>\n",
       "      <td>b'0'</td>\n",
       "      <td>b'1'</td>\n",
       "      <td>b'0'</td>\n",
       "      <td>b'0'</td>\n",
       "      <td>b'0'</td>\n",
       "      <td>b'1'</td>\n",
       "      <td>1.0</td>\n",
       "      <td>0.0</td>\n",
       "    </tr>\n",
       "  </tbody>\n",
       "</table>\n",
       "</div>"
      ],
      "text/plain": [
       "    sex   age  juv_fel_count  juv_misd_count  juv_other_count  priors_count  \\\n",
       "0  b'1'  34.0            0.0             0.0              0.0           0.0   \n",
       "1  b'1'  24.0            0.0             0.0              1.0           4.0   \n",
       "2  b'1'  41.0            0.0             0.0              0.0          14.0   \n",
       "3  b'0'  39.0            0.0             0.0              0.0           0.0   \n",
       "4  b'1'  27.0            0.0             0.0              0.0           0.0   \n",
       "\n",
       "  two_year_recid age_cat_25-45 age_cat_Greaterthan45 age_cat_Lessthan25  \\\n",
       "0           b'1'          b'1'                  b'0'               b'0'   \n",
       "1           b'1'          b'0'                  b'0'               b'1'   \n",
       "2           b'1'          b'1'                  b'0'               b'0'   \n",
       "3           b'0'          b'1'                  b'0'               b'0'   \n",
       "4           b'0'          b'1'                  b'0'               b'0'   \n",
       "\n",
       "  race_African-American race_Caucasian  c_charge_degree_F  c_charge_degree_M  \n",
       "0                  b'1'           b'0'                1.0                0.0  \n",
       "1                  b'1'           b'0'                1.0                0.0  \n",
       "2                  b'0'           b'1'                1.0                0.0  \n",
       "3                  b'0'           b'1'                0.0                1.0  \n",
       "4                  b'0'           b'1'                1.0                0.0  "
      ]
     },
     "execution_count": 1,
     "metadata": {},
     "output_type": "execute_result"
    }
   ],
   "source": [
    "# Load the data\n",
    "import pandas as pd\n",
    "from scipy.io import arff\n",
    "\n",
    "file_path = 'data/compas.arff'\n",
    "data, meta = arff.loadarff(file_path)\n",
    "\n",
    "df = pd.DataFrame(data)\n",
    "\n",
    "df.head()"
   ]
  },
  {
   "cell_type": "markdown",
   "id": "f2999814",
   "metadata": {},
   "source": [
    "### 1.1 Feature enginnering"
   ]
  },
  {
   "cell_type": "markdown",
   "id": "c48b8d56",
   "metadata": {},
   "source": [
    "Since the dataset already contains binned age categories and other categorical variables are encoded, extensive feature engineering might not be necessary. We confirm that all features are in a suitable format for modeling."
   ]
  },
  {
   "cell_type": "markdown",
   "id": "0dab80d3",
   "metadata": {},
   "source": [
    "### 1.2 Inspect missing values"
   ]
  },
  {
   "cell_type": "code",
   "execution_count": 4,
   "id": "f68007f8",
   "metadata": {},
   "outputs": [
    {
     "data": {
      "text/plain": [
       "Series([], dtype: int64)"
      ]
     },
     "execution_count": 4,
     "metadata": {},
     "output_type": "execute_result"
    }
   ],
   "source": [
    "missing_values = df.isnull().sum()\n",
    "missing_values[missing_values > 0]"
   ]
  },
  {
   "cell_type": "markdown",
   "id": "d1680712",
   "metadata": {},
   "source": [
    "No missing values."
   ]
  },
  {
   "cell_type": "markdown",
   "id": "2e22729e",
   "metadata": {},
   "source": [
    "### 1.3 Features' type conversion"
   ]
  },
  {
   "cell_type": "code",
   "execution_count": 8,
   "id": "2f5a2a72",
   "metadata": {},
   "outputs": [
    {
     "name": "stdout",
     "output_type": "stream",
     "text": [
      "<class 'pandas.core.frame.DataFrame'>\n",
      "RangeIndex: 5278 entries, 0 to 5277\n",
      "Data columns (total 14 columns):\n",
      " #   Column                 Non-Null Count  Dtype  \n",
      "---  ------                 --------------  -----  \n",
      " 0   sex                    5278 non-null   object \n",
      " 1   age                    5278 non-null   float64\n",
      " 2   juv_fel_count          5278 non-null   float64\n",
      " 3   juv_misd_count         5278 non-null   float64\n",
      " 4   juv_other_count        5278 non-null   float64\n",
      " 5   priors_count           5278 non-null   float64\n",
      " 6   two_year_recid         5278 non-null   object \n",
      " 7   age_cat_25-45          5278 non-null   object \n",
      " 8   age_cat_Greaterthan45  5278 non-null   object \n",
      " 9   age_cat_Lessthan25     5278 non-null   object \n",
      " 10  race_African-American  5278 non-null   object \n",
      " 11  race_Caucasian         5278 non-null   object \n",
      " 12  c_charge_degree_F      5278 non-null   float64\n",
      " 13  c_charge_degree_M      5278 non-null   float64\n",
      "dtypes: float64(7), object(7)\n",
      "memory usage: 577.4+ KB\n"
     ]
    }
   ],
   "source": [
    "df.info()"
   ]
  },
  {
   "cell_type": "markdown",
   "id": "9279e6ec",
   "metadata": {},
   "source": [
    "The dataset contains several columns in byte string fromat (e.g., sex, tow_year_recid, age_cat_, etc). These need to be converted to a regular numerical format as ML algorthms expect input in numberical fromat."
   ]
  },
  {
   "cell_type": "code",
   "execution_count": 7,
   "id": "4d175e1c",
   "metadata": {},
   "outputs": [
    {
     "data": {
      "text/plain": [
       "sex                        int64\n",
       "age                      float64\n",
       "juv_fel_count            float64\n",
       "juv_misd_count           float64\n",
       "juv_other_count          float64\n",
       "priors_count             float64\n",
       "two_year_recid             int64\n",
       "age_cat_25-45              int64\n",
       "age_cat_Greaterthan45      int64\n",
       "age_cat_Lessthan25         int64\n",
       "race_African-American      int64\n",
       "race_Caucasian             int64\n",
       "c_charge_degree_F        float64\n",
       "c_charge_degree_M        float64\n",
       "dtype: object"
      ]
     },
     "execution_count": 7,
     "metadata": {},
     "output_type": "execute_result"
    }
   ],
   "source": [
    "def convert_byte_string_to_numeric(df):\n",
    "    \"\"\"\n",
    "    Convert byte string columns in a DataFrame to numeric values if possible.\n",
    "\n",
    "    This function iterates through each column of a given DataFrame. For columns with\n",
    "    data type 'object', it decodes byte strings to UTF-8 formatted strings and\n",
    "    attempts to convert these strings to numeric values. If conversion fails (due\n",
    "    to non-numeric characters), the original string values are retained.\n",
    "\n",
    "    Parameters:\n",
    "    df: panda DataFrame to be processed.\n",
    "\n",
    "    Returns:\n",
    "    pd.DataFrame: A DataFrame with byte string columns converted to numeric values where possible.\n",
    "    \n",
    "    \"\"\"\n",
    "    for column in df.columns:\n",
    "        if df[column].dtype == 'object':\n",
    "            df[column] = df[column].str.decode('utf-8').str.strip()\n",
    "            df[column] = pd.to_numeric(df[column], errors='ignore')\n",
    "    return df\n",
    "\n",
    "# Create a copy of the original DataFrame to avoid modifying it directly\n",
    "df_converted = convert_byte_string_to_numeric(df.copy())\n",
    "\n",
    "# Display the data types of the converted DataFrame\n",
    "df_converted.dtypes"
   ]
  },
  {
   "cell_type": "markdown",
   "id": "f96e5f61",
   "metadata": {},
   "source": [
    "c_charge_degree_F and c_charge_degree_M are categorical features in float64 type which is uncommon. We will convert them to int64"
   ]
  },
  {
   "cell_type": "code",
   "execution_count": 9,
   "id": "7307ca7b",
   "metadata": {},
   "outputs": [],
   "source": [
    "# Convert 'c_charge_degree' from float to int\n",
    "df_converted['c_charge_degree_F'] = df_converted['c_charge_degree_F'].astype('int64')\n",
    "df_converted['c_charge_degree_M'] = df_converted['c_charge_degree_M'].astype('int64')"
   ]
  },
  {
   "cell_type": "code",
   "execution_count": 10,
   "id": "d27be4bb",
   "metadata": {},
   "outputs": [
    {
     "name": "stdout",
     "output_type": "stream",
     "text": [
      "<class 'pandas.core.frame.DataFrame'>\n",
      "RangeIndex: 5278 entries, 0 to 5277\n",
      "Data columns (total 14 columns):\n",
      " #   Column                 Non-Null Count  Dtype  \n",
      "---  ------                 --------------  -----  \n",
      " 0   sex                    5278 non-null   int64  \n",
      " 1   age                    5278 non-null   float64\n",
      " 2   juv_fel_count          5278 non-null   float64\n",
      " 3   juv_misd_count         5278 non-null   float64\n",
      " 4   juv_other_count        5278 non-null   float64\n",
      " 5   priors_count           5278 non-null   float64\n",
      " 6   two_year_recid         5278 non-null   int64  \n",
      " 7   age_cat_25-45          5278 non-null   int64  \n",
      " 8   age_cat_Greaterthan45  5278 non-null   int64  \n",
      " 9   age_cat_Lessthan25     5278 non-null   int64  \n",
      " 10  race_African-American  5278 non-null   int64  \n",
      " 11  race_Caucasian         5278 non-null   int64  \n",
      " 12  c_charge_degree_F      5278 non-null   int64  \n",
      " 13  c_charge_degree_M      5278 non-null   int64  \n",
      "dtypes: float64(5), int64(9)\n",
      "memory usage: 577.4 KB\n"
     ]
    }
   ],
   "source": [
    "df_converted.info()"
   ]
  },
  {
   "cell_type": "markdown",
   "id": "a1ffa5c3",
   "metadata": {},
   "source": [
    "### 1.4 Numircal features standardization"
   ]
  },
  {
   "cell_type": "markdown",
   "id": "2c08cf21",
   "metadata": {},
   "source": [
    "- Algorithms like Logistic Regression and SVM are sensitive to the scale of input features. Standardizing the features ensures that each feature contributes equally to the decision boundary.\n",
    "- We will standardize the features that are not binary (age, juv_fel_count, juv_misd_count, juv_other_count, and priors_count) using StandardScaler (subtracts the mean and scales each feature to unit variance) from Scikit learn. "
   ]
  },
  {
   "cell_type": "code",
   "execution_count": 11,
   "id": "87502584",
   "metadata": {},
   "outputs": [],
   "source": [
    "from sklearn.preprocessing import StandardScaler\n",
    "\n",
    "# Select columns to be standardized (non-binary features)\n",
    "columns_to_standardize = ['age', 'juv_fel_count', 'juv_misd_count', 'juv_other_count', 'priors_count']\n",
    "\n",
    "# Standardizing these columns\n",
    "scaler = StandardScaler()\n",
    "df_converted[columns_to_standardize] = scaler.fit_transform(df_converted[columns_to_standardize])"
   ]
  },
  {
   "cell_type": "code",
   "execution_count": 12,
   "id": "65f12c47",
   "metadata": {},
   "outputs": [
    {
     "data": {
      "text/html": [
       "<div>\n",
       "<style scoped>\n",
       "    .dataframe tbody tr th:only-of-type {\n",
       "        vertical-align: middle;\n",
       "    }\n",
       "\n",
       "    .dataframe tbody tr th {\n",
       "        vertical-align: top;\n",
       "    }\n",
       "\n",
       "    .dataframe thead th {\n",
       "        text-align: right;\n",
       "    }\n",
       "</style>\n",
       "<table border=\"1\" class=\"dataframe\">\n",
       "  <thead>\n",
       "    <tr style=\"text-align: right;\">\n",
       "      <th></th>\n",
       "      <th>sex</th>\n",
       "      <th>age</th>\n",
       "      <th>juv_fel_count</th>\n",
       "      <th>juv_misd_count</th>\n",
       "      <th>juv_other_count</th>\n",
       "      <th>priors_count</th>\n",
       "      <th>two_year_recid</th>\n",
       "      <th>age_cat_25-45</th>\n",
       "      <th>age_cat_Greaterthan45</th>\n",
       "      <th>age_cat_Lessthan25</th>\n",
       "      <th>race_African-American</th>\n",
       "      <th>race_Caucasian</th>\n",
       "      <th>c_charge_degree_F</th>\n",
       "      <th>c_charge_degree_M</th>\n",
       "    </tr>\n",
       "  </thead>\n",
       "  <tbody>\n",
       "    <tr>\n",
       "      <th>0</th>\n",
       "      <td>1</td>\n",
       "      <td>-0.038308</td>\n",
       "      <td>-0.14965</td>\n",
       "      <td>-0.190564</td>\n",
       "      <td>-0.247266</td>\n",
       "      <td>-0.709995</td>\n",
       "      <td>1</td>\n",
       "      <td>1</td>\n",
       "      <td>0</td>\n",
       "      <td>0</td>\n",
       "      <td>1</td>\n",
       "      <td>0</td>\n",
       "      <td>1</td>\n",
       "      <td>0</td>\n",
       "    </tr>\n",
       "    <tr>\n",
       "      <th>1</th>\n",
       "      <td>1</td>\n",
       "      <td>-0.890714</td>\n",
       "      <td>-0.14965</td>\n",
       "      <td>-0.190564</td>\n",
       "      <td>1.827564</td>\n",
       "      <td>0.110444</td>\n",
       "      <td>1</td>\n",
       "      <td>0</td>\n",
       "      <td>0</td>\n",
       "      <td>1</td>\n",
       "      <td>1</td>\n",
       "      <td>0</td>\n",
       "      <td>1</td>\n",
       "      <td>0</td>\n",
       "    </tr>\n",
       "    <tr>\n",
       "      <th>2</th>\n",
       "      <td>1</td>\n",
       "      <td>0.558376</td>\n",
       "      <td>-0.14965</td>\n",
       "      <td>-0.190564</td>\n",
       "      <td>-0.247266</td>\n",
       "      <td>2.161540</td>\n",
       "      <td>1</td>\n",
       "      <td>1</td>\n",
       "      <td>0</td>\n",
       "      <td>0</td>\n",
       "      <td>0</td>\n",
       "      <td>1</td>\n",
       "      <td>1</td>\n",
       "      <td>0</td>\n",
       "    </tr>\n",
       "    <tr>\n",
       "      <th>3</th>\n",
       "      <td>0</td>\n",
       "      <td>0.387895</td>\n",
       "      <td>-0.14965</td>\n",
       "      <td>-0.190564</td>\n",
       "      <td>-0.247266</td>\n",
       "      <td>-0.709995</td>\n",
       "      <td>0</td>\n",
       "      <td>1</td>\n",
       "      <td>0</td>\n",
       "      <td>0</td>\n",
       "      <td>0</td>\n",
       "      <td>1</td>\n",
       "      <td>0</td>\n",
       "      <td>1</td>\n",
       "    </tr>\n",
       "    <tr>\n",
       "      <th>4</th>\n",
       "      <td>1</td>\n",
       "      <td>-0.634992</td>\n",
       "      <td>-0.14965</td>\n",
       "      <td>-0.190564</td>\n",
       "      <td>-0.247266</td>\n",
       "      <td>-0.709995</td>\n",
       "      <td>0</td>\n",
       "      <td>1</td>\n",
       "      <td>0</td>\n",
       "      <td>0</td>\n",
       "      <td>0</td>\n",
       "      <td>1</td>\n",
       "      <td>1</td>\n",
       "      <td>0</td>\n",
       "    </tr>\n",
       "  </tbody>\n",
       "</table>\n",
       "</div>"
      ],
      "text/plain": [
       "   sex       age  juv_fel_count  juv_misd_count  juv_other_count  \\\n",
       "0    1 -0.038308       -0.14965       -0.190564        -0.247266   \n",
       "1    1 -0.890714       -0.14965       -0.190564         1.827564   \n",
       "2    1  0.558376       -0.14965       -0.190564        -0.247266   \n",
       "3    0  0.387895       -0.14965       -0.190564        -0.247266   \n",
       "4    1 -0.634992       -0.14965       -0.190564        -0.247266   \n",
       "\n",
       "   priors_count  two_year_recid  age_cat_25-45  age_cat_Greaterthan45  \\\n",
       "0     -0.709995               1              1                      0   \n",
       "1      0.110444               1              0                      0   \n",
       "2      2.161540               1              1                      0   \n",
       "3     -0.709995               0              1                      0   \n",
       "4     -0.709995               0              1                      0   \n",
       "\n",
       "   age_cat_Lessthan25  race_African-American  race_Caucasian  \\\n",
       "0                   0                      1               0   \n",
       "1                   1                      1               0   \n",
       "2                   0                      0               1   \n",
       "3                   0                      0               1   \n",
       "4                   0                      0               1   \n",
       "\n",
       "   c_charge_degree_F  c_charge_degree_M  \n",
       "0                  1                  0  \n",
       "1                  1                  0  \n",
       "2                  1                  0  \n",
       "3                  0                  1  \n",
       "4                  1                  0  "
      ]
     },
     "execution_count": 12,
     "metadata": {},
     "output_type": "execute_result"
    }
   ],
   "source": [
    "df_converted.head()"
   ]
  },
  {
   "cell_type": "markdown",
   "id": "650c4a84",
   "metadata": {},
   "source": [
    "### 1.5 Target variable imbalance check"
   ]
  },
  {
   "cell_type": "markdown",
   "id": "b259499f",
   "metadata": {},
   "source": [
    "We need to make sure that the traget variable 'two_year_recid' is balanced. If it is not balanced we will fix it because imbalanced dataset can lead to model bias towards the majority class."
   ]
  },
  {
   "cell_type": "code",
   "execution_count": 13,
   "id": "c0db7bbe",
   "metadata": {},
   "outputs": [
    {
     "data": {
      "text/plain": [
       "0    0.529557\n",
       "1    0.470443\n",
       "Name: two_year_recid, dtype: float64"
      ]
     },
     "execution_count": 13,
     "metadata": {},
     "output_type": "execute_result"
    }
   ],
   "source": [
    "target_balance = df_converted['two_year_recid'].value_counts(normalize=True)\n",
    "\n",
    "target_balance"
   ]
  },
  {
   "cell_type": "markdown",
   "id": "38f03c27",
   "metadata": {},
   "source": [
    "The target variable is relatively balanced, with about 53% of the cases being in one class and 47% in the other. This balance suggests that we do not need to apply specific techniques for handling label imbalance. However, we will be using evaluation metrics that consider both classes effectively, such as precision, recall, F1 score, and ROC-AUC."
   ]
  },
  {
   "cell_type": "markdown",
   "id": "e0e25cbd",
   "metadata": {},
   "source": [
    "### 1.6 Feature(s) selection"
   ]
  },
  {
   "cell_type": "markdown",
   "id": "0e78a6f4",
   "metadata": {},
   "source": [
    "- Reducing the number of features is recommended to reduce model complexity and the risk of overfitting.\n",
    "- Considering the context of the data and that it's already been preprocessed to some extent, at this stage it seems all features are relevant but we will double check nontheless.\n",
    "\n",
    "We can start by looking at the correlations between all variables and the target variable 'two_year_recid'. This will give us an initial understanding of which features might be more relevant for predicting recidivism."
   ]
  },
  {
   "cell_type": "code",
   "execution_count": 14,
   "id": "5745907a",
   "metadata": {
    "scrolled": true
   },
   "outputs": [
    {
     "data": {
      "image/png": "[encoded data removed]",
      "text/plain": [
       "<Figure size 1296x576 with 2 Axes>"
      ]
     },
     "metadata": {
      "needs_background": "light"
     },
     "output_type": "display_data"
    }
   ],
   "source": [
    "import matplotlib.pyplot as plt\n",
    "import seaborn as sns\n",
    "\n",
    "# Calculate the correlation matrix of the data\n",
    "correlation_matrix = df_converted.corr()\n",
    "\n",
    "plt.figure(figsize=(18, 8))\n",
    "\n",
    "# Create a heatmap to visualize the correlation of each feature with 'two_year_recid'\n",
    "# 'sns.heatmap' is used for creating the heatmap\n",
    "# 'correlation_matrix[['two_year_recid']].sort_values(by='two_year_recid', ascending=False)' \n",
    "# sorts the correlations of features with 'two_year_recid' in descending order\n",
    "# 'annot=True' annotates the heatmap with the correlation values\n",
    "# 'cmap='coolwarm'' sets the color palette of the heatmap\n",
    "# 'vmin=-1, vmax=1' sets the range of values for the colormap\n",
    "# 'fmt=\".2f\"' formats the annotation to two decimal places\n",
    "\n",
    "sns.heatmap(correlation_matrix[['two_year_recid']].sort_values(by='two_year_recid', ascending=False), \n",
    "            annot=True, cmap='coolwarm', vmin=-1, vmax=1, fmt=\".2f\")\n",
    "\n",
    "# Set the title of the plot\n",
    "plt.title(\"Correlation of Features with Two-Year Recidivism\")\n",
    "\n",
    "# Display the plot\n",
    "plt.show()\n"
   ]
  },
  {
   "cell_type": "markdown",
   "id": "f055ca18",
   "metadata": {},
   "source": [
    "**Key observations:**\n",
    "\n",
    "1. Features with a positive correlation increase as the likelihood of recidivism increases. 'priors_count' shows the strongest positive correlation, which is logical as a higher number of prior offenses might indicate a higher likelihood of reoffending.\n",
    "\n",
    "2. Features with a negative correlation decrease as the likelihood of recidivism increases. 'age' and 'age_cat_Greaterthan45' show a significant negative correlation, suggesting that older individuals are less likely to reoffend.\n",
    "\n",
    "3. Both race_African-American and race_Caucasian show notable correlations. **This could be an indicator to produce a bias, race plays a substantial role in predicting recidivism.**\n",
    "\n",
    "4. Other features like sex, age_cat_25-45, and c_charge_degree_F show moderate relative correlations.\n",
    "\n",
    "Next we will plot a full correlation matrix to inspect how features are interacting with each other."
   ]
  },
  {
   "cell_type": "code",
   "execution_count": 16,
   "id": "83d36c80",
   "metadata": {},
   "outputs": [
    {
     "data": {
      "image/png": "[encoded data removed]",
      "text/plain": [
       "<Figure size 1296x720 with 2 Axes>"
      ]
     },
     "metadata": {
      "needs_background": "light"
     },
     "output_type": "display_data"
    }
   ],
   "source": [
    "plt.figure(figsize=(18, 10))\n",
    "\n",
    "# Creating a heatmap to visualize the correlation matrix with the same parameters to the previous step\n",
    "sns.heatmap(correlation_matrix, annot=True, cmap='coolwarm', vmin=-1, vmax=1, fmt=\".2f\")\n",
    "\n",
    "# Setting the title of the plot\n",
    "plt.title(\"Full Correlation Matrix of Dataset\")\n",
    "\n",
    "# Displaying the plot\n",
    "plt.show()\n"
   ]
  },
  {
   "cell_type": "markdown",
   "id": "51dba6e4",
   "metadata": {},
   "source": [
    "**Key observations:**\n",
    "\n",
    "**Age (we will drop the numerical age feature here is why):**\n",
    "- The age bins are derived directly from the numerical age variable, so they inherently contain similar information. This can lead to multicollinearity, where one variable can be linearly predicted from the others with a substantial degree of accuracy.\n",
    "- The numerical age variable provides a continuous, linear interpretation of age. However, the age bins capture non-linear effects and can model different behaviors in different age groups. We assume this can be particularly useful because the relationship between age and recidivism is not linear but varies across different age ranges (check EDA notebook for more info).\n",
    "- The correlation coefficients indicate that the age bins have different relationships with the target variable compared to the continuous age variable. This suggests that the age bins might capture aspects of the relationship between age and recidivism that the continuous variable does not.\n",
    "- Including both age types increases model complexity, which might be justified if it improves predictive performance without overfitting. But after testing Logistic Regression with and without the combination of these features and compare their performance no significant difference were found (with age numerical accuracy= 0.65, without it accuracy= 0.66)\n",
    "\n",
    "**Charge degree and race features:**\n",
    "- Charge degree (c_charge_degree_F and c_charge_degree_M) and race features are mutually exclusive (if one is 1, the other is 0). Including both is redundant since knowing the value of one directly informs you about the other. We will drop one of these variables without losing information."
   ]
  },
  {
   "cell_type": "code",
   "execution_count": 17,
   "id": "4b74e42f",
   "metadata": {},
   "outputs": [],
   "source": [
    "# dropping the 'age' feature\n",
    "df_clean = df_converted.drop('age', axis=1)\n",
    "\n",
    "# Creating the 'charge_degree' feature\n",
    "df_clean['charge_degree'] = df_converted['c_charge_degree_F']\n",
    "\n",
    "# Creating the 'race' feature (1 for African-American, 0 for Caucasian)\n",
    "df_clean['race'] = df_converted['race_African-American']\n",
    "\n",
    "# Dropping the original features\n",
    "df_clean = df_clean.drop(['c_charge_degree_F', 'c_charge_degree_M', 'race_African-American', 'race_Caucasian'],\n",
    "                         axis=1)\n"
   ]
  },
  {
   "cell_type": "code",
   "execution_count": 19,
   "id": "02b7eb88",
   "metadata": {},
   "outputs": [
    {
     "name": "stdout",
     "output_type": "stream",
     "text": [
      "<class 'pandas.core.frame.DataFrame'>\n",
      "RangeIndex: 5278 entries, 0 to 5277\n",
      "Data columns (total 11 columns):\n",
      " #   Column                 Non-Null Count  Dtype  \n",
      "---  ------                 --------------  -----  \n",
      " 0   sex                    5278 non-null   int64  \n",
      " 1   juv_fel_count          5278 non-null   float64\n",
      " 2   juv_misd_count         5278 non-null   float64\n",
      " 3   juv_other_count        5278 non-null   float64\n",
      " 4   priors_count           5278 non-null   float64\n",
      " 5   two_year_recid         5278 non-null   int64  \n",
      " 6   age_cat_25-45          5278 non-null   int64  \n",
      " 7   age_cat_Greaterthan45  5278 non-null   int64  \n",
      " 8   age_cat_Lessthan25     5278 non-null   int64  \n",
      " 9   charge_degree          5278 non-null   int64  \n",
      " 10  race                   5278 non-null   int64  \n",
      "dtypes: float64(4), int64(7)\n",
      "memory usage: 453.7 KB\n"
     ]
    }
   ],
   "source": [
    "df_clean.info()"
   ]
  },
  {
   "cell_type": "markdown",
   "id": "0f208b69",
   "metadata": {},
   "source": [
    "Sum up:\n",
    "- The numeric age feature has been removed.\n",
    "- A new feature **charge_degree** has been created, where 1 indicates a felony (originally c_charge_degree_F) and 0 indicates a misdemeanor.\n",
    "- A new feature **race** has been created, where 1 represents African-American and 0 represents Caucasian. This is based on the original race_African-American feature.\n",
    "- The original features c_charge_degree_F, c_charge_degree_M, race_African-American, and race_Caucasian have been removed to avoid redundancy."
   ]
  },
  {
   "cell_type": "markdown",
   "id": "4b454558",
   "metadata": {},
   "source": [
    "The End of Data Loading and Preparation section"
   ]
  },
  {
   "cell_type": "markdown",
   "id": "5b829339",
   "metadata": {},
   "source": [
    "**Before moving on to modeling the next two code cells will be dedicated to declare three utility functions (skip this part):**\n",
    "1. To keep track of the results from different models, we will create a structured approach for recording and comparing the performance metrics.\n",
    "2. To measure and evaluate the fairness of a predictive model, particularly in sensitive applications. We will declare two functions, statistical_parity and equalized_odds, use Fairlearn's metrics to compute fairness measures. statistical_parity calculates metrics related to demographic parity, while equalized_odds calculates metrics related to error rates. "
   ]
  },
  {
   "cell_type": "code",
   "execution_count": 77,
   "id": "029be96a",
   "metadata": {},
   "outputs": [],
   "source": [
    "# Initialize a DataFrame to store the results\n",
    "results_df = pd.DataFrame(columns=[\n",
    "    'model_name', \n",
    "    'accuracy_nestedCV',\n",
    "    'AUC', \n",
    "    'f1', \n",
    "    'precision', \n",
    "    'recall', \n",
    "    'statistical_parity_sex', \n",
    "    'equalized_odds_sex',\n",
    "    'statistical_parity_race',\n",
    "    'equalized_odds_race',\n",
    "    'hyperparameters',\n",
    "    'optimized_accuracy'\n",
    "])\n",
    "\n",
    "# Function to update the DataFrame with new results\n",
    "def update_results(model_name, accuracy_nestedCV, AUC, f1, precision, recall, statistical_parity_sex, equalized_odds_sex, statistical_parity_race, equalized_odds_race, hyperparameters, optimized_accuracy):\n",
    "    new_entry = {\n",
    "        'model_name': model_name, \n",
    "        'accuracy_nestedCV': accuracy_nestedCV, \n",
    "        'AUC': AUC, \n",
    "        'f1': f1, \n",
    "        'precision': precision, \n",
    "        'recall': recall, \n",
    "        'statistical_parity_sex': statistical_parity_sex, \n",
    "        'equalized_odds_sex': equalized_odds_sex,\n",
    "        'statistical_parity_race': statistical_parity_race, \n",
    "        'equalized_odds_race': equalized_odds_race, \n",
    "        'hyperparameters': hyperparameters,\n",
    "        'optimized_accuracy': optimized_accuracy\n",
    "    }\n",
    "    return results_df.append(new_entry, ignore_index=True)\n",
    "\n",
    "# Example usage after evaluating a model\n",
    "# results_df = update_results(\n",
    "#     model_name='Logistic Regression',\n",
    "#     accuracy_nestedCV=0.85,  \n",
    "#     AUC=0.90,  \n",
    "#     f1=0.87, \n",
    "#     precision=0.88,  \n",
    "#     recall=0.86, \n",
    "#     statistical_parity_sex =0.89, \n",
    "#     equalized_odds_sex =0.99,\n",
    "#     statistical_parity_race = 0.23, \n",
    "#     equalized_odds_race =0.33, \n",
    "#     hyperparameters= f'C={}, max_iter={}',\n",
    "#     optimised_accuracy=0.99\n",
    "# )\n"
   ]
  },
  {
   "cell_type": "code",
   "execution_count": 22,
   "id": "fc8d5bec",
   "metadata": {},
   "outputs": [],
   "source": [
    "from fairlearn.metrics import MetricFrame, selection_rate, demographic_parity_difference, equalized_odds_difference\n",
    "from fairlearn.metrics import demographic_parity_ratio, equalized_odds_ratio\n",
    "\n",
    "def statistical_parity(y_test, y_pred, feature):\n",
    "    \"\"\"\n",
    "    Calculate statistical parity metrics.\n",
    "\n",
    "    This function computes the statistical parity difference and ratio,\n",
    "    which are measures of fairness in terms of demographic parity.\n",
    "\n",
    "    Parameters:\n",
    "    y_test (pd DataFrame): True labels for the test data.\n",
    "    y_pred (pd Serie): Predicted labels for the test data.\n",
    "    feature (pd Serie): Sensitive feature based on which fairness is evaluated.\n",
    "\n",
    "    Returns:\n",
    "    dict: A dictionary containing the Statistical Parity Difference and Ratio.\n",
    "    \"\"\"\n",
    "\n",
    "    stat_parity_diff = demographic_parity_difference(y_test, y_pred, sensitive_features=feature)\n",
    "    stat_parity_ratio = demographic_parity_ratio(y_test, y_pred, sensitive_features=feature)\n",
    "    \n",
    "    return {\n",
    "        \"Statistical Parity Difference\": round(stat_parity_diff, 3),\n",
    "        \"Statistical Parity ratio\": round(stat_parity_ratio, 3)\n",
    "    }\n",
    "\n",
    "def equalized_odds(y_test, y_pred, feature):\n",
    "    \"\"\"\n",
    "    Calculate equalized odds metrics.\n",
    "\n",
    "    This function computes the equalized odds difference and ratio,\n",
    "    which are measures of fairness in terms of error rates.\n",
    "\n",
    "    Parameters:\n",
    "    y_test (pd DataFrame): True labels for the test data.\n",
    "    y_pred (pd Serie): Predicted labels for the test data.\n",
    "    feature (pd Serie): Sensitive feature based on which fairness is evaluated.\n",
    "\n",
    "    Returns:\n",
    "    dict: A dictionary containing the Equalized Odds Difference and Ratio.\n",
    "    \"\"\"\n",
    "    \n",
    "    equal_odds_diff = equalized_odds_difference(y_test, y_pred, sensitive_features=feature)\n",
    "    equal_odds_ratio = equalized_odds_ratio(y_test, y_pred, sensitive_features=feature)\n",
    "    \n",
    "    return {\n",
    "        \"Equalized Odds Difference\": round(equal_odds_diff, 3),\n",
    "        \"Equalized Odds Ratio\": round(equal_odds_ratio, 3)\n",
    "    }\n"
   ]
  },
  {
   "cell_type": "markdown",
   "id": "12cd11d6",
   "metadata": {},
   "source": [
    "## 2. Training Baseline Model"
   ]
  },
  {
   "cell_type": "markdown",
   "id": "b786042b",
   "metadata": {},
   "source": [
    "We selected Logistic Regression as the baseline model for its straightforward implementation and interpretable model. As a simple model, it provides a benchmark for performance."
   ]
  },
  {
   "cell_type": "code",
   "execution_count": 33,
   "id": "c1670313",
   "metadata": {},
   "outputs": [
    {
     "data": {
      "text/html": [
       "<style>#sk-container-id-1 {color: black;background-color: white;}#sk-container-id-1 pre{padding: 0;}#sk-container-id-1 div.sk-toggleable {background-color: white;}#sk-container-id-1 label.sk-toggleable__label {cursor: pointer;display: block;width: 100%;margin-bottom: 0;padding: 0.3em;box-sizing: border-box;text-align: center;}#sk-container-id-1 label.sk-toggleable__label-arrow:before {content: \"▸\";float: left;margin-right: 0.25em;color: #696969;}#sk-container-id-1 label.sk-toggleable__label-arrow:hover:before {color: black;}#sk-container-id-1 div.sk-estimator:hover label.sk-toggleable__label-arrow:before {color: black;}#sk-container-id-1 div.sk-toggleable__content {max-height: 0;max-width: 0;overflow: hidden;text-align: left;background-color: #f0f8ff;}#sk-container-id-1 div.sk-toggleable__content pre {margin: 0.2em;color: black;border-radius: 0.25em;background-color: #f0f8ff;}#sk-container-id-1 input.sk-toggleable__control:checked~div.sk-toggleable__content {max-height: 200px;max-width: 100%;overflow: auto;}#sk-container-id-1 input.sk-toggleable__control:checked~label.sk-toggleable__label-arrow:before {content: \"▾\";}#sk-container-id-1 div.sk-estimator input.sk-toggleable__control:checked~label.sk-toggleable__label {background-color: #d4ebff;}#sk-container-id-1 div.sk-label input.sk-toggleable__control:checked~label.sk-toggleable__label {background-color: #d4ebff;}#sk-container-id-1 input.sk-hidden--visually {border: 0;clip: rect(1px 1px 1px 1px);clip: rect(1px, 1px, 1px, 1px);height: 1px;margin: -1px;overflow: hidden;padding: 0;position: absolute;width: 1px;}#sk-container-id-1 div.sk-estimator {font-family: monospace;background-color: #f0f8ff;border: 1px dotted black;border-radius: 0.25em;box-sizing: border-box;margin-bottom: 0.5em;}#sk-container-id-1 div.sk-estimator:hover {background-color: #d4ebff;}#sk-container-id-1 div.sk-parallel-item::after {content: \"\";width: 100%;border-bottom: 1px solid gray;flex-grow: 1;}#sk-container-id-1 div.sk-label:hover label.sk-toggleable__label {background-color: #d4ebff;}#sk-container-id-1 div.sk-serial::before {content: \"\";position: absolute;border-left: 1px solid gray;box-sizing: border-box;top: 0;bottom: 0;left: 50%;z-index: 0;}#sk-container-id-1 div.sk-serial {display: flex;flex-direction: column;align-items: center;background-color: white;padding-right: 0.2em;padding-left: 0.2em;position: relative;}#sk-container-id-1 div.sk-item {position: relative;z-index: 1;}#sk-container-id-1 div.sk-parallel {display: flex;align-items: stretch;justify-content: center;background-color: white;position: relative;}#sk-container-id-1 div.sk-item::before, #sk-container-id-1 div.sk-parallel-item::before {content: \"\";position: absolute;border-left: 1px solid gray;box-sizing: border-box;top: 0;bottom: 0;left: 50%;z-index: -1;}#sk-container-id-1 div.sk-parallel-item {display: flex;flex-direction: column;z-index: 1;position: relative;background-color: white;}#sk-container-id-1 div.sk-parallel-item:first-child::after {align-self: flex-end;width: 50%;}#sk-container-id-1 div.sk-parallel-item:last-child::after {align-self: flex-start;width: 50%;}#sk-container-id-1 div.sk-parallel-item:only-child::after {width: 0;}#sk-container-id-1 div.sk-dashed-wrapped {border: 1px dashed gray;margin: 0 0.4em 0.5em 0.4em;box-sizing: border-box;padding-bottom: 0.4em;background-color: white;}#sk-container-id-1 div.sk-label label {font-family: monospace;font-weight: bold;display: inline-block;line-height: 1.2em;}#sk-container-id-1 div.sk-label-container {text-align: center;}#sk-container-id-1 div.sk-container {/* jupyter's `normalize.less` sets `[hidden] { display: none; }` but bootstrap.min.css set `[hidden] { display: none !important; }` so we also need the `!important` here to be able to override the default hidden behavior on the sphinx rendered scikit-learn.org. See: https://github.com/scikit-learn/scikit-learn/issues/21755 */display: inline-block !important;position: relative;}#sk-container-id-1 div.sk-text-repr-fallback {display: none;}</style><div id=\"sk-container-id-1\" class=\"sk-top-container\"><div class=\"sk-text-repr-fallback\"><pre>LogisticRegression()</pre><b>In a Jupyter environment, please rerun this cell to show the HTML representation or trust the notebook. <br />On GitHub, the HTML representation is unable to render, please try loading this page with nbviewer.org.</b></div><div class=\"sk-container\" hidden><div class=\"sk-item\"><div class=\"sk-estimator sk-toggleable\"><input class=\"sk-toggleable__control sk-hidden--visually\" id=\"sk-estimator-id-1\" type=\"checkbox\" checked><label for=\"sk-estimator-id-1\" class=\"sk-toggleable__label sk-toggleable__label-arrow\">LogisticRegression</label><div class=\"sk-toggleable__content\"><pre>LogisticRegression()</pre></div></div></div></div></div>"
      ],
      "text/plain": [
       "LogisticRegression()"
      ]
     },
     "execution_count": 33,
     "metadata": {},
     "output_type": "execute_result"
    }
   ],
   "source": [
    "from sklearn.model_selection import train_test_split\n",
    "from sklearn.linear_model import LogisticRegression\n",
    "from sklearn.metrics import accuracy_score, f1_score, precision_score, recall_score, classification_report, confusion_matrix, roc_auc_score\n",
    "\n",
    "# Data Preparation\n",
    "X = df_clean.drop(['two_year_recid'], axis=1)\n",
    "y = df_clean['two_year_recid']\n",
    "\n",
    "# Splitting the dataset into training and testing sets\n",
    "X_train, X_test, y_train, y_test = train_test_split(X, y, test_size=0.3, random_state=42)\n",
    "\n",
    "# Initialize the Logistic Regression model\n",
    "log_reg = LogisticRegression()\n",
    "\n",
    "# Fit the model to the training data\n",
    "log_reg.fit(X_train, y_train)\n"
   ]
  },
  {
   "cell_type": "code",
   "execution_count": 34,
   "id": "6a3b8033",
   "metadata": {},
   "outputs": [],
   "source": [
    "# Model Evaluation\n",
    "y_pred_base_log_reg = log_reg.predict(X_test)\n",
    "precision_score_base_log_reg = precision_score(y_test, y_pred_base_log_reg)\n",
    "recall_score_base_log_reg = recall_score(y_test, y_pred_base_log_reg)\n",
    "conf_matrix_base_log_reg = confusion_matrix(y_test, y_pred_base_log_reg)\n",
    "auc_base_log_reg = roc_auc_score(y_test, y_pred_base_log_reg)"
   ]
  },
  {
   "cell_type": "code",
   "execution_count": 35,
   "id": "6d6b29a8",
   "metadata": {},
   "outputs": [
    {
     "name": "stdout",
     "output_type": "stream",
     "text": [
      "              precision    recall  f1-score   support\n",
      "\n",
      "           0       0.66      0.75      0.70       849\n",
      "           1       0.66      0.55      0.60       735\n",
      "\n",
      "    accuracy                           0.66      1584\n",
      "   macro avg       0.66      0.65      0.65      1584\n",
      "weighted avg       0.66      0.66      0.65      1584\n",
      "\n"
     ]
    }
   ],
   "source": [
    "print(report_base_log_reg)"
   ]
  },
  {
   "cell_type": "code",
   "execution_count": 38,
   "id": "f25f566f",
   "metadata": {},
   "outputs": [
    {
     "name": "stdout",
     "output_type": "stream",
     "text": [
      "0.6514290521862456\n"
     ]
    }
   ],
   "source": [
    "print(auc_base_log_reg)"
   ]
  },
  {
   "cell_type": "code",
   "execution_count": 42,
   "id": "704fcd1e",
   "metadata": {},
   "outputs": [],
   "source": [
    "race_equalized_odds_base_log_reg = equalized_odds(y_test, y_pred_base_log_reg, X_test['race'])"
   ]
  },
  {
   "cell_type": "code",
   "execution_count": 43,
   "id": "07971b51",
   "metadata": {},
   "outputs": [
    {
     "name": "stdout",
     "output_type": "stream",
     "text": [
      "{'Equalized Odds Difference': 0.274, 'Equalized Odds Ratio': 0.496}\n"
     ]
    }
   ],
   "source": [
    "print(race_equalized_odds_base_log_reg)"
   ]
  },
  {
   "cell_type": "code",
   "execution_count": 44,
   "id": "89891618",
   "metadata": {},
   "outputs": [],
   "source": [
    "race_statistical_parity_base_log_reg = statistical_parity(y_test, y_pred_base_log_reg, X_test['race'])"
   ]
  },
  {
   "cell_type": "code",
   "execution_count": 45,
   "id": "63dd0092",
   "metadata": {},
   "outputs": [
    {
     "name": "stdout",
     "output_type": "stream",
     "text": [
      "{'Statistical Parity Difference': 0.244, 'Statistical Parity ratio': 0.499}\n"
     ]
    }
   ],
   "source": [
    "print(race_statistical_parity_base_log_reg)"
   ]
  },
  {
   "cell_type": "markdown",
   "id": "519beb43",
   "metadata": {},
   "source": [
    "### 2.1 Evaluate the model using Nested cross-validation"
   ]
  },
  {
   "cell_type": "code",
   "execution_count": 53,
   "id": "9a5e592f",
   "metadata": {},
   "outputs": [],
   "source": [
    "from sklearn.model_selection import GridSearchCV, cross_val_score, KFold\n",
    "import numpy as np\n",
    "\n",
    "# Define the parameter grid for logistic regression\n",
    "param_grid = {\n",
    "    'C': np.logspace(-4, 4, 40), # Regularization strength\n",
    "    'penalty': ['l1', 'l2']      # Regularization type\n",
    "}\n",
    "\n",
    "# Define the inner and outer cross-validation settings\n",
    "inner_cv = KFold(n_splits=5, shuffle=True, random_state=42)\n",
    "outer_cv = KFold(n_splits=5, shuffle=True, random_state=42)\n",
    "\n",
    "# Initialize the base model\n",
    "log_reg_cv = LogisticRegression(solver='liblinear')  # Using liblinear solver for l1 penalty\n",
    "\n",
    "# Set up the GridSearchCV object for inner CV\n",
    "grid_search = GridSearchCV(estimator=log_reg_cv, param_grid=param_grid, cv=inner_cv, scoring='accuracy')\n",
    "\n",
    "# Run nested cross-validation and compute the average score\n",
    "nested_score = cross_val_score(grid_search, X_train, y_train, cv=outer_cv)"
   ]
  },
  {
   "cell_type": "code",
   "execution_count": 54,
   "id": "dbb00646",
   "metadata": {},
   "outputs": [
    {
     "name": "stdout",
     "output_type": "stream",
     "text": [
      "Average accuracy from nested CV: 0.6683792277706269\n"
     ]
    }
   ],
   "source": [
    "log_reg_nestedCV_accuracy = nested_score.mean()\n",
    "print(\"Average accuracy from nested CV:\", log_reg_nestedCV_accuracy)"
   ]
  },
  {
   "cell_type": "markdown",
   "id": "2f55cb5c",
   "metadata": {},
   "source": [
    "### 2.2 Fine-tuning the model using GirdSearchCV"
   ]
  },
  {
   "cell_type": "code",
   "execution_count": 56,
   "id": "af216b24",
   "metadata": {},
   "outputs": [
    {
     "name": "stdout",
     "output_type": "stream",
     "text": [
      "Fitting 5 folds for each of 80 candidates, totalling 400 fits\n"
     ]
    }
   ],
   "source": [
    "# Initialize the logistic regression model\n",
    "log_reg = LogisticRegression(solver='liblinear', random_state=42)  # Using 'liblinear' for l1 and l2 penalties\n",
    "\n",
    "# Set up the GridSearchCV object\n",
    "grid_search = GridSearchCV(log_reg, param_grid, cv=5, scoring='accuracy', verbose=1)\n",
    "\n",
    "# Fit the grid search to the data\n",
    "grid_search.fit(X_train, y_train)\n",
    "\n",
    "# Get the best parameters and the best score\n",
    "best_params = grid_search.best_params_\n",
    "best_score = grid_search.best_score_"
   ]
  },
  {
   "cell_type": "code",
   "execution_count": 57,
   "id": "1687f8b5",
   "metadata": {},
   "outputs": [
    {
     "name": "stdout",
     "output_type": "stream",
     "text": [
      "Best parameters found:  {'C': 0.011253355826007646, 'penalty': 'l2'}\n",
      "Best accuracy found:  0.678399360448273\n"
     ]
    }
   ],
   "source": [
    "print(\"Best parameters found: \", best_params)\n",
    "print(\"Best accuracy found: \", best_score)"
   ]
  },
  {
   "cell_type": "code",
   "execution_count": 59,
   "id": "77564878",
   "metadata": {},
   "outputs": [
    {
     "data": {
      "text/html": [
       "<style>#sk-container-id-2 {color: black;background-color: white;}#sk-container-id-2 pre{padding: 0;}#sk-container-id-2 div.sk-toggleable {background-color: white;}#sk-container-id-2 label.sk-toggleable__label {cursor: pointer;display: block;width: 100%;margin-bottom: 0;padding: 0.3em;box-sizing: border-box;text-align: center;}#sk-container-id-2 label.sk-toggleable__label-arrow:before {content: \"▸\";float: left;margin-right: 0.25em;color: #696969;}#sk-container-id-2 label.sk-toggleable__label-arrow:hover:before {color: black;}#sk-container-id-2 div.sk-estimator:hover label.sk-toggleable__label-arrow:before {color: black;}#sk-container-id-2 div.sk-toggleable__content {max-height: 0;max-width: 0;overflow: hidden;text-align: left;background-color: #f0f8ff;}#sk-container-id-2 div.sk-toggleable__content pre {margin: 0.2em;color: black;border-radius: 0.25em;background-color: #f0f8ff;}#sk-container-id-2 input.sk-toggleable__control:checked~div.sk-toggleable__content {max-height: 200px;max-width: 100%;overflow: auto;}#sk-container-id-2 input.sk-toggleable__control:checked~label.sk-toggleable__label-arrow:before {content: \"▾\";}#sk-container-id-2 div.sk-estimator input.sk-toggleable__control:checked~label.sk-toggleable__label {background-color: #d4ebff;}#sk-container-id-2 div.sk-label input.sk-toggleable__control:checked~label.sk-toggleable__label {background-color: #d4ebff;}#sk-container-id-2 input.sk-hidden--visually {border: 0;clip: rect(1px 1px 1px 1px);clip: rect(1px, 1px, 1px, 1px);height: 1px;margin: -1px;overflow: hidden;padding: 0;position: absolute;width: 1px;}#sk-container-id-2 div.sk-estimator {font-family: monospace;background-color: #f0f8ff;border: 1px dotted black;border-radius: 0.25em;box-sizing: border-box;margin-bottom: 0.5em;}#sk-container-id-2 div.sk-estimator:hover {background-color: #d4ebff;}#sk-container-id-2 div.sk-parallel-item::after {content: \"\";width: 100%;border-bottom: 1px solid gray;flex-grow: 1;}#sk-container-id-2 div.sk-label:hover label.sk-toggleable__label {background-color: #d4ebff;}#sk-container-id-2 div.sk-serial::before {content: \"\";position: absolute;border-left: 1px solid gray;box-sizing: border-box;top: 0;bottom: 0;left: 50%;z-index: 0;}#sk-container-id-2 div.sk-serial {display: flex;flex-direction: column;align-items: center;background-color: white;padding-right: 0.2em;padding-left: 0.2em;position: relative;}#sk-container-id-2 div.sk-item {position: relative;z-index: 1;}#sk-container-id-2 div.sk-parallel {display: flex;align-items: stretch;justify-content: center;background-color: white;position: relative;}#sk-container-id-2 div.sk-item::before, #sk-container-id-2 div.sk-parallel-item::before {content: \"\";position: absolute;border-left: 1px solid gray;box-sizing: border-box;top: 0;bottom: 0;left: 50%;z-index: -1;}#sk-container-id-2 div.sk-parallel-item {display: flex;flex-direction: column;z-index: 1;position: relative;background-color: white;}#sk-container-id-2 div.sk-parallel-item:first-child::after {align-self: flex-end;width: 50%;}#sk-container-id-2 div.sk-parallel-item:last-child::after {align-self: flex-start;width: 50%;}#sk-container-id-2 div.sk-parallel-item:only-child::after {width: 0;}#sk-container-id-2 div.sk-dashed-wrapped {border: 1px dashed gray;margin: 0 0.4em 0.5em 0.4em;box-sizing: border-box;padding-bottom: 0.4em;background-color: white;}#sk-container-id-2 div.sk-label label {font-family: monospace;font-weight: bold;display: inline-block;line-height: 1.2em;}#sk-container-id-2 div.sk-label-container {text-align: center;}#sk-container-id-2 div.sk-container {/* jupyter's `normalize.less` sets `[hidden] { display: none; }` but bootstrap.min.css set `[hidden] { display: none !important; }` so we also need the `!important` here to be able to override the default hidden behavior on the sphinx rendered scikit-learn.org. See: https://github.com/scikit-learn/scikit-learn/issues/21755 */display: inline-block !important;position: relative;}#sk-container-id-2 div.sk-text-repr-fallback {display: none;}</style><div id=\"sk-container-id-2\" class=\"sk-top-container\"><div class=\"sk-text-repr-fallback\"><pre>LogisticRegression(C=0.011253355826007646, random_state=42, solver=&#x27;liblinear&#x27;)</pre><b>In a Jupyter environment, please rerun this cell to show the HTML representation or trust the notebook. <br />On GitHub, the HTML representation is unable to render, please try loading this page with nbviewer.org.</b></div><div class=\"sk-container\" hidden><div class=\"sk-item\"><div class=\"sk-estimator sk-toggleable\"><input class=\"sk-toggleable__control sk-hidden--visually\" id=\"sk-estimator-id-2\" type=\"checkbox\" checked><label for=\"sk-estimator-id-2\" class=\"sk-toggleable__label sk-toggleable__label-arrow\">LogisticRegression</label><div class=\"sk-toggleable__content\"><pre>LogisticRegression(C=0.011253355826007646, random_state=42, solver=&#x27;liblinear&#x27;)</pre></div></div></div></div></div>"
      ],
      "text/plain": [
       "LogisticRegression(C=0.011253355826007646, random_state=42, solver='liblinear')"
      ]
     },
     "execution_count": 59,
     "metadata": {},
     "output_type": "execute_result"
    }
   ],
   "source": [
    "# Retraining the model with the best parameters\n",
    "best_C = best_params['C']\n",
    "best_penalty = best_params['penalty']\n",
    "\n",
    "# Creating a new logistic regression model with the best parameters\n",
    "optimized_logreg = LogisticRegression(solver='liblinear', C=best_C, penalty=best_penalty, random_state=42)\n",
    "optimized_logreg.fit(X_train, y_train)"
   ]
  },
  {
   "cell_type": "code",
   "execution_count": 68,
   "id": "972c1bc3",
   "metadata": {},
   "outputs": [],
   "source": [
    "# Optimized Logistic Regression Model Evaluation \n",
    "y_pred_optimized_logreg = optimized_logreg.predict(X_test)\n",
    "accuracy_score_optimized_logreg = accuracy_score(y_test, y_pred_optimized_logreg)\n",
    "precision_score_optimized_logreg = precision_score(y_test, y_pred_optimized_logreg)\n",
    "recall_score_optimized_logreg = recall_score(y_test, y_pred_optimized_logreg)\n",
    "f1_score_optimized_logreg = f1_score(y_test, y_pred_optimized_logreg)\n",
    "conf_matrix_optimized_logreg = confusion_matrix(y_test, y_pred_optimized_logreg)\n",
    "auc_base_optimized_logreg = roc_auc_score(y_test, y_pred_optimized_logreg)"
   ]
  },
  {
   "cell_type": "code",
   "execution_count": 62,
   "id": "c8ef4472",
   "metadata": {},
   "outputs": [
    {
     "name": "stdout",
     "output_type": "stream",
     "text": [
      "0.6470445421985048\n"
     ]
    }
   ],
   "source": [
    "print(auc_base_optimized_logreg)"
   ]
  },
  {
   "cell_type": "code",
   "execution_count": 63,
   "id": "a75691a8",
   "metadata": {},
   "outputs": [],
   "source": [
    "race_statistical_parity_optimized_logreg = statistical_parity(y_test, y_pred_optimized_logreg, X_test['race'])\n",
    "race_equalized_odds_optimized_logreg = equalized_odds(y_test, y_pred_optimized_logreg, X_test['race'])\n",
    "sex_statistical_parity_optimized_logreg = statistical_parity(y_test, y_pred_optimized_logreg, X_test['sex'])\n",
    "sex_equalized_odds_optimized_logreg = equalized_odds(y_test, y_pred_optimized_logreg, X_test['sex'])"
   ]
  },
  {
   "cell_type": "code",
   "execution_count": 79,
   "id": "49776ab3",
   "metadata": {
    "collapsed": true,
    "jupyter": {
     "outputs_hidden": true
    }
   },
   "outputs": [
    {
     "name": "stderr",
     "output_type": "stream",
     "text": [
      "/var/folders/h5/r3ldzs6x5bxb71r4t20ydphh0000gn/T/ipykernel_64515/110754608.py:33: FutureWarning: The frame.append method is deprecated and will be removed from pandas in a future version. Use pandas.concat instead.\n",
      "  return results_df.append(new_entry, ignore_index=True)\n"
     ]
    }
   ],
   "source": [
    "results_df = update_results(\n",
    "     model_name='Logistic Regression',\n",
    "     accuracy_nestedCV=log_reg_nestedCV_accuracy,  \n",
    "     AUC=auc_base_optimized_logreg,  \n",
    "     f1=f1_score_optimized_logreg, \n",
    "     precision=precision_score_optimized_logreg,  \n",
    "     recall=recall_score_optimized_logreg, \n",
    "     statistical_parity_sex =sex_statistical_parity_optimized_logreg, \n",
    "     equalized_odds_sex =sex_equalized_odds_optimized_logreg,\n",
    "     statistical_parity_race = race_statistical_parity_optimized_logreg, \n",
    "     equalized_odds_race =race_equalized_odds_optimized_logreg, \n",
    "     hyperparameters= best_params,\n",
    "     optimized_accuracy=accuracy_score_optimized_logreg\n",
    ")"
   ]
  },
  {
   "cell_type": "code",
   "execution_count": 80,
   "id": "34e87baa",
   "metadata": {},
   "outputs": [
    {
     "data": {
      "text/html": [
       "<div>\n",
       "<style scoped>\n",
       "    .dataframe tbody tr th:only-of-type {\n",
       "        vertical-align: middle;\n",
       "    }\n",
       "\n",
       "    .dataframe tbody tr th {\n",
       "        vertical-align: top;\n",
       "    }\n",
       "\n",
       "    .dataframe thead th {\n",
       "        text-align: right;\n",
       "    }\n",
       "</style>\n",
       "<table border=\"1\" class=\"dataframe\">\n",
       "  <thead>\n",
       "    <tr style=\"text-align: right;\">\n",
       "      <th></th>\n",
       "      <th>model_name</th>\n",
       "      <th>accuracy_nestedCV</th>\n",
       "      <th>AUC</th>\n",
       "      <th>f1</th>\n",
       "      <th>precision</th>\n",
       "      <th>recall</th>\n",
       "      <th>statistical_parity_sex</th>\n",
       "      <th>equalized_odds_sex</th>\n",
       "      <th>statistical_parity_race</th>\n",
       "      <th>equalized_odds_race</th>\n",
       "      <th>hyperparameters</th>\n",
       "      <th>optimized_accuracy</th>\n",
       "    </tr>\n",
       "  </thead>\n",
       "  <tbody>\n",
       "    <tr>\n",
       "      <th>0</th>\n",
       "      <td>Logistic Regression</td>\n",
       "      <td>0.668379</td>\n",
       "      <td>0.647045</td>\n",
       "      <td>0.570294</td>\n",
       "      <td>0.685115</td>\n",
       "      <td>0.488435</td>\n",
       "      <td>{'Statistical Parity Difference': 0.231, 'Stat...</td>\n",
       "      <td>{'Equalized Odds Difference': 0.27, 'Equalized...</td>\n",
       "      <td>{'Statistical Parity Difference': 0.261, 'Stat...</td>\n",
       "      <td>{'Equalized Odds Difference': 0.33, 'Equalized...</td>\n",
       "      <td>{'C': 0.011253355826007646, 'penalty': 'l2'}</td>\n",
       "      <td>0.65846</td>\n",
       "    </tr>\n",
       "  </tbody>\n",
       "</table>\n",
       "</div>"
      ],
      "text/plain": [
       "            model_name accuracy_nestedCV       AUC        f1 precision  \\\n",
       "0  Logistic Regression          0.668379  0.647045  0.570294  0.685115   \n",
       "\n",
       "     recall                             statistical_parity_sex  \\\n",
       "0  0.488435  {'Statistical Parity Difference': 0.231, 'Stat...   \n",
       "\n",
       "                                  equalized_odds_sex  \\\n",
       "0  {'Equalized Odds Difference': 0.27, 'Equalized...   \n",
       "\n",
       "                             statistical_parity_race  \\\n",
       "0  {'Statistical Parity Difference': 0.261, 'Stat...   \n",
       "\n",
       "                                 equalized_odds_race  \\\n",
       "0  {'Equalized Odds Difference': 0.33, 'Equalized...   \n",
       "\n",
       "                                hyperparameters optimized_accuracy  \n",
       "0  {'C': 0.011253355826007646, 'penalty': 'l2'}            0.65846  "
      ]
     },
     "execution_count": 80,
     "metadata": {},
     "output_type": "execute_result"
    }
   ],
   "source": [
    "results_df"
   ]
  },
  {
   "cell_type": "markdown",
   "id": "07e23017",
   "metadata": {},
   "source": [
    "## 3. Testing Different Models"
   ]
  },
  {
   "cell_type": "markdown",
   "id": "663fef69",
   "metadata": {},
   "source": [
    "### 3.1 Support Vector Classifier"
   ]
  },
  {
   "cell_type": "markdown",
   "id": "c9656d13",
   "metadata": {},
   "source": [
    "#### 3.1.1 SVC Nested cross-validation"
   ]
  },
  {
   "cell_type": "code",
   "execution_count": 92,
   "id": "0d3cf61b",
   "metadata": {},
   "outputs": [],
   "source": [
    "from sklearn.svm import SVC\n",
    "\n",
    "# Define the parameter grid for hyperparameter tuning\n",
    "param_grid = {\n",
    "    'C': [0.1, 1, 10, 100, 100],  # Example values for C\n",
    "    'gamma': [1, 0.1, 0.01, 0.001, 0.0001],  # Example values for gamma\n",
    "    'kernel': ['linear', 'rbf']  # Kernel types\n",
    "}\n",
    "\n",
    "# Define the inner and outer cross-validation settings\n",
    "inner_cv = KFold(n_splits=5, shuffle=True, random_state=42)\n",
    "outer_cv = KFold(n_splits=5, shuffle=True, random_state=42)\n",
    "\n",
    "# Initialize the SVC model\n",
    "svm_NestedCV = SVC(random_state=42)\n",
    "\n",
    "# Set up the GridSearchCV object for inner CV\n",
    "grid_search = GridSearchCV(estimator=svm_NestedCV, param_grid=param_grid, cv=inner_cv, scoring='accuracy')\n",
    "\n",
    "# Run nested cross-validation and compute the average score\n",
    "nested_score = cross_val_score(grid_search, X_train, y_train, cv=outer_cv)"
   ]
  },
  {
   "cell_type": "code",
   "execution_count": 93,
   "id": "a944b55d",
   "metadata": {},
   "outputs": [
    {
     "name": "stdout",
     "output_type": "stream",
     "text": [
      "Average accuracy from nested CV: 0.665672867824754\n"
     ]
    }
   ],
   "source": [
    "SVC_nestedCV_accuracy = nested_score.mean()\n",
    "print(\"Average accuracy from nested CV:\", SVC_nestedCV_accuracy)"
   ]
  },
  {
   "cell_type": "markdown",
   "id": "06b3c867",
   "metadata": {},
   "source": [
    "#### 3.1.2 Fine-tuning SVC GridSearchCV"
   ]
  },
  {
   "cell_type": "code",
   "execution_count": 94,
   "id": "ba534032",
   "metadata": {},
   "outputs": [
    {
     "name": "stdout",
     "output_type": "stream",
     "text": [
      "Fitting 5 folds for each of 50 candidates, totalling 250 fits\n"
     ]
    }
   ],
   "source": [
    "# Initialize the SVM classifier\n",
    "svm_classifier = SVC(random_state=42)\n",
    "\n",
    "# Set up the GridSearchCV object\n",
    "grid_search = GridSearchCV(svm_classifier, param_grid, cv=5, scoring='accuracy', verbose=1)\n",
    "\n",
    "# Fit the grid search to the data\n",
    "grid_search.fit(X_train, y_train)\n",
    "\n",
    "# Get the best parameters and the best score\n",
    "best_params = grid_search.best_params_\n",
    "best_score = grid_search.best_score_"
   ]
  },
  {
   "cell_type": "code",
   "execution_count": 95,
   "id": "195297ec",
   "metadata": {},
   "outputs": [
    {
     "name": "stdout",
     "output_type": "stream",
     "text": [
      "Best parameters found:  {'C': 100, 'gamma': 0.01, 'kernel': 'rbf'}\n",
      "Best accuracy found:  0.6756948340795992\n"
     ]
    }
   ],
   "source": [
    "# Print the results\n",
    "print(\"Best parameters found: \", best_params)\n",
    "print(\"Best accuracy found: \", best_score)"
   ]
  },
  {
   "cell_type": "code",
   "execution_count": 96,
   "id": "b79ffe78",
   "metadata": {},
   "outputs": [
    {
     "name": "stdout",
     "output_type": "stream",
     "text": [
      "Test set accuracy:  0.6584595959595959\n",
      "Classification report:\n",
      "               precision    recall  f1-score   support\n",
      "\n",
      "           0       0.66      0.73      0.70       849\n",
      "           1       0.65      0.57      0.61       735\n",
      "\n",
      "    accuracy                           0.66      1584\n",
      "   macro avg       0.66      0.65      0.65      1584\n",
      "weighted avg       0.66      0.66      0.66      1584\n",
      "\n"
     ]
    }
   ],
   "source": [
    "# Evaluate the best model on the test set\n",
    "optimized_svc = grid_search.best_estimator_\n",
    "y_pred_svc = optimized_svc.predict(X_test)\n",
    "\n",
    "print(\"Test set accuracy: \", accuracy_score(y_test, y_pred_svc))\n",
    "print(\"Classification report:\\n\", classification_report(y_test, y_pred_svc))"
   ]
  },
  {
   "cell_type": "code",
   "execution_count": 97,
   "id": "b711ac8a",
   "metadata": {},
   "outputs": [],
   "source": [
    "# Optimized Logistic Regression Model Evaluation \n",
    "accuracy_score_optimized_svc = accuracy_score(y_test, y_pred_svc)\n",
    "precision_score_optimized_svc = precision_score(y_test, y_pred_svc)\n",
    "recall_score_optimized_svc = recall_score(y_test, y_pred_svc)\n",
    "f1_score_optimized_svc = f1_score(y_test, y_pred_svc)\n",
    "conf_matrix_optimized_svc = confusion_matrix(y_test, y_pred_svc)\n",
    "auc_base_optimized_svc = roc_auc_score(y_test, y_pred_svc)"
   ]
  },
  {
   "cell_type": "code",
   "execution_count": 98,
   "id": "26accedc",
   "metadata": {},
   "outputs": [],
   "source": [
    "race_statistical_parity_optimized_svc = statistical_parity(y_test, y_pred_svc, X_test['race'])\n",
    "race_equalized_odds_optimized_svc = equalized_odds(y_test, y_pred_svc, X_test['race'])\n",
    "sex_statistical_parity_optimized_svc = statistical_parity(y_test, y_pred_svc, X_test['sex'])\n",
    "sex_equalized_odds_optimized_svc = equalized_odds(y_test, y_pred_svc, X_test['sex'])"
   ]
  },
  {
   "cell_type": "code",
   "execution_count": 99,
   "id": "30604636",
   "metadata": {
    "scrolled": true
   },
   "outputs": [
    {
     "name": "stderr",
     "output_type": "stream",
     "text": [
      "/var/folders/h5/r3ldzs6x5bxb71r4t20ydphh0000gn/T/ipykernel_64515/110754608.py:33: FutureWarning: The frame.append method is deprecated and will be removed from pandas in a future version. Use pandas.concat instead.\n",
      "  return results_df.append(new_entry, ignore_index=True)\n"
     ]
    }
   ],
   "source": [
    "results_df = update_results(\n",
    "     model_name='Support Vector Classifier (SVC)',\n",
    "     accuracy_nestedCV=SVC_nestedCV_accuracy,  \n",
    "     AUC=auc_base_optimized_svc,  \n",
    "     f1=f1_score_optimized_svc, \n",
    "     precision=precision_score_optimized_svc,  \n",
    "     recall=recall_score_optimized_svc, \n",
    "     statistical_parity_sex =sex_statistical_parity_optimized_svc, \n",
    "     equalized_odds_sex =sex_equalized_odds_optimized_svc,\n",
    "     statistical_parity_race = race_statistical_parity_optimized_svc, \n",
    "     equalized_odds_race =race_equalized_odds_optimized_svc, \n",
    "     hyperparameters= best_params,\n",
    "     optimized_accuracy=accuracy_score_optimized_svc\n",
    ")"
   ]
  },
  {
   "cell_type": "code",
   "execution_count": 101,
   "id": "47c18079",
   "metadata": {},
   "outputs": [
    {
     "data": {
      "text/html": [
       "<div>\n",
       "<style scoped>\n",
       "    .dataframe tbody tr th:only-of-type {\n",
       "        vertical-align: middle;\n",
       "    }\n",
       "\n",
       "    .dataframe tbody tr th {\n",
       "        vertical-align: top;\n",
       "    }\n",
       "\n",
       "    .dataframe thead th {\n",
       "        text-align: right;\n",
       "    }\n",
       "</style>\n",
       "<table border=\"1\" class=\"dataframe\">\n",
       "  <thead>\n",
       "    <tr style=\"text-align: right;\">\n",
       "      <th></th>\n",
       "      <th>model_name</th>\n",
       "      <th>accuracy_nestedCV</th>\n",
       "      <th>AUC</th>\n",
       "      <th>f1</th>\n",
       "      <th>precision</th>\n",
       "      <th>recall</th>\n",
       "      <th>statistical_parity_sex</th>\n",
       "      <th>equalized_odds_sex</th>\n",
       "      <th>statistical_parity_race</th>\n",
       "      <th>equalized_odds_race</th>\n",
       "      <th>hyperparameters</th>\n",
       "      <th>optimized_accuracy</th>\n",
       "    </tr>\n",
       "  </thead>\n",
       "  <tbody>\n",
       "    <tr>\n",
       "      <th>0</th>\n",
       "      <td>Logistic Regression</td>\n",
       "      <td>0.668379</td>\n",
       "      <td>0.647045</td>\n",
       "      <td>0.570294</td>\n",
       "      <td>0.685115</td>\n",
       "      <td>0.488435</td>\n",
       "      <td>{'Statistical Parity Difference': 0.231, 'Stat...</td>\n",
       "      <td>{'Equalized Odds Difference': 0.27, 'Equalized...</td>\n",
       "      <td>{'Statistical Parity Difference': 0.261, 'Stat...</td>\n",
       "      <td>{'Equalized Odds Difference': 0.33, 'Equalized...</td>\n",
       "      <td>{'C': 0.011253355826007646, 'penalty': 'l2'}</td>\n",
       "      <td>0.65846</td>\n",
       "    </tr>\n",
       "    <tr>\n",
       "      <th>1</th>\n",
       "      <td>Support Vector Classifier (SVC)</td>\n",
       "      <td>0.665673</td>\n",
       "      <td>0.652525</td>\n",
       "      <td>0.607687</td>\n",
       "      <td>0.650621</td>\n",
       "      <td>0.570068</td>\n",
       "      <td>{'Statistical Parity Difference': 0.315, 'Stat...</td>\n",
       "      <td>{'Equalized Odds Difference': 0.387, 'Equalize...</td>\n",
       "      <td>{'Statistical Parity Difference': 0.308, 'Stat...</td>\n",
       "      <td>{'Equalized Odds Difference': 0.323, 'Equalize...</td>\n",
       "      <td>{'C': 100, 'gamma': 0.01, 'kernel': 'rbf'}</td>\n",
       "      <td>0.65846</td>\n",
       "    </tr>\n",
       "  </tbody>\n",
       "</table>\n",
       "</div>"
      ],
      "text/plain": [
       "                        model_name accuracy_nestedCV       AUC        f1  \\\n",
       "0              Logistic Regression          0.668379  0.647045  0.570294   \n",
       "1  Support Vector Classifier (SVC)          0.665673  0.652525  0.607687   \n",
       "\n",
       "  precision    recall                             statistical_parity_sex  \\\n",
       "0  0.685115  0.488435  {'Statistical Parity Difference': 0.231, 'Stat...   \n",
       "1  0.650621  0.570068  {'Statistical Parity Difference': 0.315, 'Stat...   \n",
       "\n",
       "                                  equalized_odds_sex  \\\n",
       "0  {'Equalized Odds Difference': 0.27, 'Equalized...   \n",
       "1  {'Equalized Odds Difference': 0.387, 'Equalize...   \n",
       "\n",
       "                             statistical_parity_race  \\\n",
       "0  {'Statistical Parity Difference': 0.261, 'Stat...   \n",
       "1  {'Statistical Parity Difference': 0.308, 'Stat...   \n",
       "\n",
       "                                 equalized_odds_race  \\\n",
       "0  {'Equalized Odds Difference': 0.33, 'Equalized...   \n",
       "1  {'Equalized Odds Difference': 0.323, 'Equalize...   \n",
       "\n",
       "                                hyperparameters optimized_accuracy  \n",
       "0  {'C': 0.011253355826007646, 'penalty': 'l2'}            0.65846  \n",
       "1    {'C': 100, 'gamma': 0.01, 'kernel': 'rbf'}            0.65846  "
      ]
     },
     "execution_count": 101,
     "metadata": {},
     "output_type": "execute_result"
    }
   ],
   "source": [
    "results_df"
   ]
  },
  {
   "cell_type": "markdown",
   "id": "ca447bbf",
   "metadata": {},
   "source": [
    "### 3.2 K-Nearest Neighbors"
   ]
  },
  {
   "cell_type": "markdown",
   "id": "24e9407b",
   "metadata": {},
   "source": [
    "#### 3.2.1 KNN Nested cross-validation"
   ]
  },
  {
   "cell_type": "code",
   "execution_count": 103,
   "id": "92181cfe",
   "metadata": {},
   "outputs": [],
   "source": [
    "from sklearn.neighbors import KNeighborsClassifier\n",
    "\n",
    "# Define the parameter grid for hyperparameter tuning\n",
    "param_grid = {\n",
    "    'n_neighbors': range(1, 31)  # Example: testing 1 to 30 neighbors\n",
    "}\n",
    "\n",
    "# Define the inner and outer cross-validation settings\n",
    "inner_cv = KFold(n_splits=5, shuffle=True, random_state=42)\n",
    "outer_cv = KFold(n_splits=5, shuffle=True, random_state=42)\n",
    "\n",
    "# Initialize the KNeighborsClassifier\n",
    "KNN_NestedCV = KNeighborsClassifier()\n",
    "\n",
    "# Set up the GridSearchCV object for inner CV\n",
    "grid_search = GridSearchCV(estimator=KNN_NestedCV, param_grid=param_grid, cv=inner_cv, scoring='accuracy')\n",
    "\n",
    "# Run nested cross-validation and compute the average score\n",
    "nested_score = cross_val_score(grid_search, X_train, y_train, cv=outer_cv)\n"
   ]
  },
  {
   "cell_type": "code",
   "execution_count": 104,
   "id": "d5a31adc",
   "metadata": {},
   "outputs": [
    {
     "name": "stdout",
     "output_type": "stream",
     "text": [
      "Average accuracy from nested CV: 0.6640453847028323\n"
     ]
    }
   ],
   "source": [
    "KNN_nestedCV_accuracy = nested_score.mean()\n",
    "print(\"Average accuracy from nested CV:\", KNN_nestedCV_accuracy)"
   ]
  },
  {
   "cell_type": "markdown",
   "id": "e9310d52",
   "metadata": {},
   "source": [
    "#### 3.2.2 Fine-tuning KNN GridSearchCV"
   ]
  },
  {
   "cell_type": "code",
   "execution_count": 105,
   "id": "427ac54a",
   "metadata": {},
   "outputs": [
    {
     "name": "stdout",
     "output_type": "stream",
     "text": [
      "Fitting 5 folds for each of 30 candidates, totalling 150 fits\n"
     ]
    }
   ],
   "source": [
    "\n",
    "# Initialize the KNeighborsClassifier\n",
    "KNN_cv = KNeighborsClassifier()\n",
    "\n",
    "# Set up the GridSearchCV object\n",
    "grid_search = GridSearchCV(KNN_cv, param_grid, cv=5, scoring='accuracy', verbose=1)\n",
    "\n",
    "# Fit the grid search to the data\n",
    "grid_search.fit(X_train, y_train)\n",
    "\n",
    "# Get the best parameters and the best score\n",
    "best_params = grid_search.best_params_\n",
    "best_score = grid_search.best_score_"
   ]
  },
  {
   "cell_type": "code",
   "execution_count": 106,
   "id": "65253522",
   "metadata": {},
   "outputs": [
    {
     "name": "stdout",
     "output_type": "stream",
     "text": [
      "Best parameters found:  {'n_neighbors': 28}\n",
      "Best accuracy found:  0.6737952481013308\n"
     ]
    }
   ],
   "source": [
    "# Print the results\n",
    "print(\"Best parameters found: \", best_params)\n",
    "print(\"Best accuracy found: \", best_score)"
   ]
  },
  {
   "cell_type": "code",
   "execution_count": 107,
   "id": "2fabdbf0",
   "metadata": {},
   "outputs": [
    {
     "name": "stdout",
     "output_type": "stream",
     "text": [
      "Test set accuracy:  0.6534090909090909\n",
      "Classification report:\n",
      "               precision    recall  f1-score   support\n",
      "\n",
      "           0       0.65      0.75      0.70       849\n",
      "           1       0.65      0.54      0.59       735\n",
      "\n",
      "    accuracy                           0.65      1584\n",
      "   macro avg       0.65      0.65      0.65      1584\n",
      "weighted avg       0.65      0.65      0.65      1584\n",
      "\n"
     ]
    }
   ],
   "source": [
    "# Evaluate the best model on the test set\n",
    "optimized_knn = grid_search.best_estimator_\n",
    "y_pred_knn = optimized_knn.predict(X_test)\n",
    "\n",
    "print(\"Test set accuracy: \", accuracy_score(y_test, y_pred_knn))\n",
    "print(\"Classification report:\\n\", classification_report(y_test, y_pred_knn))"
   ]
  },
  {
   "cell_type": "code",
   "execution_count": 109,
   "id": "fe8e1725",
   "metadata": {},
   "outputs": [],
   "source": [
    "# Optimized Logistic Regression Model Evaluation \n",
    "accuracy_score_optimized_KNN = accuracy_score(y_test, y_pred_knn)\n",
    "precision_score_optimized_KNN = precision_score(y_test, y_pred_knn)\n",
    "recall_score_optimized_KNN = recall_score(y_test, y_pred_knn)\n",
    "f1_score_optimized_KNN = f1_score(y_test, y_pred_knn)\n",
    "conf_matrix_optimized_KNN = confusion_matrix(y_test, y_pred_knn)\n",
    "auc_base_optimized_KNN = roc_auc_score(y_test, y_pred_knn)"
   ]
  },
  {
   "cell_type": "code",
   "execution_count": 110,
   "id": "03e9fb83",
   "metadata": {},
   "outputs": [],
   "source": [
    "race_statistical_parity_optimized_KNN = statistical_parity(y_test, y_pred_knn, X_test['race'])\n",
    "race_equalized_odds_optimized_KNN = equalized_odds(y_test, y_pred_knn, X_test['race'])\n",
    "sex_statistical_parity_optimized_KNN = statistical_parity(y_test, y_pred_knn, X_test['sex'])\n",
    "sex_equalized_odds_optimized_KNN = equalized_odds(y_test, y_pred_knn, X_test['sex'])"
   ]
  },
  {
   "cell_type": "code",
   "execution_count": 111,
   "id": "c57ab573",
   "metadata": {},
   "outputs": [
    {
     "name": "stderr",
     "output_type": "stream",
     "text": [
      "/var/folders/h5/r3ldzs6x5bxb71r4t20ydphh0000gn/T/ipykernel_64515/110754608.py:33: FutureWarning: The frame.append method is deprecated and will be removed from pandas in a future version. Use pandas.concat instead.\n",
      "  return results_df.append(new_entry, ignore_index=True)\n"
     ]
    }
   ],
   "source": [
    "results_df = update_results(\n",
    "     model_name='K-Nearest Neighbors (KNN)',\n",
    "     accuracy_nestedCV=KNN_nestedCV_accuracy,  \n",
    "     AUC=auc_base_optimized_KNN,  \n",
    "     f1=f1_score_optimized_KNN, \n",
    "     precision=precision_score_optimized_KNN,  \n",
    "     recall=recall_score_optimized_KNN, \n",
    "     statistical_parity_sex =sex_statistical_parity_optimized_KNN, \n",
    "     equalized_odds_sex =sex_equalized_odds_optimized_KNN,\n",
    "     statistical_parity_race = race_statistical_parity_optimized_KNN, \n",
    "     equalized_odds_race =race_equalized_odds_optimized_KNN, \n",
    "     hyperparameters= best_params,\n",
    "     optimized_accuracy=accuracy_score_optimized_KNN\n",
    ")"
   ]
  },
  {
   "cell_type": "code",
   "execution_count": 112,
   "id": "3bbbec3b",
   "metadata": {},
   "outputs": [
    {
     "data": {
      "text/html": [
       "<div>\n",
       "<style scoped>\n",
       "    .dataframe tbody tr th:only-of-type {\n",
       "        vertical-align: middle;\n",
       "    }\n",
       "\n",
       "    .dataframe tbody tr th {\n",
       "        vertical-align: top;\n",
       "    }\n",
       "\n",
       "    .dataframe thead th {\n",
       "        text-align: right;\n",
       "    }\n",
       "</style>\n",
       "<table border=\"1\" class=\"dataframe\">\n",
       "  <thead>\n",
       "    <tr style=\"text-align: right;\">\n",
       "      <th></th>\n",
       "      <th>model_name</th>\n",
       "      <th>accuracy_nestedCV</th>\n",
       "      <th>AUC</th>\n",
       "      <th>f1</th>\n",
       "      <th>precision</th>\n",
       "      <th>recall</th>\n",
       "      <th>statistical_parity_sex</th>\n",
       "      <th>equalized_odds_sex</th>\n",
       "      <th>statistical_parity_race</th>\n",
       "      <th>equalized_odds_race</th>\n",
       "      <th>hyperparameters</th>\n",
       "      <th>optimized_accuracy</th>\n",
       "    </tr>\n",
       "  </thead>\n",
       "  <tbody>\n",
       "    <tr>\n",
       "      <th>0</th>\n",
       "      <td>Logistic Regression</td>\n",
       "      <td>0.668379</td>\n",
       "      <td>0.647045</td>\n",
       "      <td>0.570294</td>\n",
       "      <td>0.685115</td>\n",
       "      <td>0.488435</td>\n",
       "      <td>{'Statistical Parity Difference': 0.231, 'Stat...</td>\n",
       "      <td>{'Equalized Odds Difference': 0.27, 'Equalized...</td>\n",
       "      <td>{'Statistical Parity Difference': 0.261, 'Stat...</td>\n",
       "      <td>{'Equalized Odds Difference': 0.33, 'Equalized...</td>\n",
       "      <td>{'C': 0.011253355826007646, 'penalty': 'l2'}</td>\n",
       "      <td>0.65846</td>\n",
       "    </tr>\n",
       "    <tr>\n",
       "      <th>1</th>\n",
       "      <td>Support Vector Classifier (SVC)</td>\n",
       "      <td>0.665673</td>\n",
       "      <td>0.652525</td>\n",
       "      <td>0.607687</td>\n",
       "      <td>0.650621</td>\n",
       "      <td>0.570068</td>\n",
       "      <td>{'Statistical Parity Difference': 0.315, 'Stat...</td>\n",
       "      <td>{'Equalized Odds Difference': 0.387, 'Equalize...</td>\n",
       "      <td>{'Statistical Parity Difference': 0.308, 'Stat...</td>\n",
       "      <td>{'Equalized Odds Difference': 0.323, 'Equalize...</td>\n",
       "      <td>{'C': 100, 'gamma': 0.01, 'kernel': 'rbf'}</td>\n",
       "      <td>0.65846</td>\n",
       "    </tr>\n",
       "    <tr>\n",
       "      <th>2</th>\n",
       "      <td>K-Nearest Neighbors (KNN)</td>\n",
       "      <td>0.664045</td>\n",
       "      <td>0.646078</td>\n",
       "      <td>0.593032</td>\n",
       "      <td>0.651466</td>\n",
       "      <td>0.544218</td>\n",
       "      <td>{'Statistical Parity Difference': 0.225, 'Stat...</td>\n",
       "      <td>{'Equalized Odds Difference': 0.253, 'Equalize...</td>\n",
       "      <td>{'Statistical Parity Difference': 0.254, 'Stat...</td>\n",
       "      <td>{'Equalized Odds Difference': 0.303, 'Equalize...</td>\n",
       "      <td>{'n_neighbors': 28}</td>\n",
       "      <td>0.653409</td>\n",
       "    </tr>\n",
       "  </tbody>\n",
       "</table>\n",
       "</div>"
      ],
      "text/plain": [
       "                        model_name accuracy_nestedCV       AUC        f1  \\\n",
       "0              Logistic Regression          0.668379  0.647045  0.570294   \n",
       "1  Support Vector Classifier (SVC)          0.665673  0.652525  0.607687   \n",
       "2        K-Nearest Neighbors (KNN)          0.664045  0.646078  0.593032   \n",
       "\n",
       "  precision    recall                             statistical_parity_sex  \\\n",
       "0  0.685115  0.488435  {'Statistical Parity Difference': 0.231, 'Stat...   \n",
       "1  0.650621  0.570068  {'Statistical Parity Difference': 0.315, 'Stat...   \n",
       "2  0.651466  0.544218  {'Statistical Parity Difference': 0.225, 'Stat...   \n",
       "\n",
       "                                  equalized_odds_sex  \\\n",
       "0  {'Equalized Odds Difference': 0.27, 'Equalized...   \n",
       "1  {'Equalized Odds Difference': 0.387, 'Equalize...   \n",
       "2  {'Equalized Odds Difference': 0.253, 'Equalize...   \n",
       "\n",
       "                             statistical_parity_race  \\\n",
       "0  {'Statistical Parity Difference': 0.261, 'Stat...   \n",
       "1  {'Statistical Parity Difference': 0.308, 'Stat...   \n",
       "2  {'Statistical Parity Difference': 0.254, 'Stat...   \n",
       "\n",
       "                                 equalized_odds_race  \\\n",
       "0  {'Equalized Odds Difference': 0.33, 'Equalized...   \n",
       "1  {'Equalized Odds Difference': 0.323, 'Equalize...   \n",
       "2  {'Equalized Odds Difference': 0.303, 'Equalize...   \n",
       "\n",
       "                                hyperparameters optimized_accuracy  \n",
       "0  {'C': 0.011253355826007646, 'penalty': 'l2'}            0.65846  \n",
       "1    {'C': 100, 'gamma': 0.01, 'kernel': 'rbf'}            0.65846  \n",
       "2                           {'n_neighbors': 28}           0.653409  "
      ]
     },
     "execution_count": 112,
     "metadata": {},
     "output_type": "execute_result"
    }
   ],
   "source": [
    "results_df"
   ]
  },
  {
   "cell_type": "markdown",
   "id": "15a53333",
   "metadata": {},
   "source": [
    "### 3.3 Random Forests"
   ]
  },
  {
   "cell_type": "markdown",
   "id": "e2b8ac1f",
   "metadata": {},
   "source": [
    "#### 3.3.1 RandomForests Nested cross-validation"
   ]
  },
  {
   "cell_type": "code",
   "execution_count": 114,
   "id": "05b10df8",
   "metadata": {},
   "outputs": [],
   "source": [
    "from sklearn.ensemble import RandomForestClassifier\n",
    "\n",
    "# Define the parameter grid for hyperparameter tuning\n",
    "param_grid = {\n",
    "    'n_estimators': [100, 200, 300],  # Number of trees in the forest\n",
    "    'max_depth': [10, 20, 30, None],  # Maximum depth of the tree\n",
    "    'min_samples_split': [2, 5, 10],  # Minimum number of samples required to split a node\n",
    "    'min_samples_leaf': [1, 2, 4]     # Minimum number of samples required at each leaf node\n",
    "}\n",
    "\n",
    "# Define the inner and outer cross-validation settings\n",
    "inner_cv = KFold(n_splits=5, shuffle=True, random_state=42)\n",
    "outer_cv = KFold(n_splits=5, shuffle=True, random_state=42)\n",
    "\n",
    "# Initialize the Random Forest classifier\n",
    "rf_NestedCV = RandomForestClassifier(random_state=42)\n",
    "\n",
    "# Set up the GridSearchCV object for inner CV\n",
    "grid_search = GridSearchCV(estimator=rf_NestedCV, param_grid=param_grid, cv=inner_cv, scoring='accuracy')\n",
    "\n",
    "# Run nested cross-validation and compute the average score\n",
    "nested_score = cross_val_score(grid_search, X_train, y_train, cv=outer_cv)\n"
   ]
  },
  {
   "cell_type": "code",
   "execution_count": 115,
   "id": "67b80d2a",
   "metadata": {},
   "outputs": [
    {
     "name": "stdout",
     "output_type": "stream",
     "text": [
      "Average accuracy from nested CV: 0.6637740152773652\n"
     ]
    }
   ],
   "source": [
    "rf_nestedCV_accuracy = nested_score.mean()\n",
    "print(\"Average accuracy from nested CV:\", rf_nestedCV_accuracy)"
   ]
  },
  {
   "cell_type": "markdown",
   "id": "7223459e",
   "metadata": {},
   "source": [
    "#### 3.3.2 Fine-tuning RandomForests GridSearchCV"
   ]
  },
  {
   "cell_type": "code",
   "execution_count": 116,
   "id": "a7717917",
   "metadata": {},
   "outputs": [
    {
     "name": "stdout",
     "output_type": "stream",
     "text": [
      "Fitting 5 folds for each of 108 candidates, totalling 540 fits\n"
     ]
    }
   ],
   "source": [
    "# Initialize the Random Forest classifier\n",
    "rf_classifier = RandomForestClassifier(random_state=42)\n",
    "\n",
    "# Set up the GridSearchCV object\n",
    "grid_search = GridSearchCV(rf_classifier, param_grid, cv=5, scoring='accuracy', verbose=1)\n",
    "\n",
    "# Fit the grid search to the data\n",
    "grid_search.fit(X_train, y_train)\n",
    "\n",
    "# Get the best parameters and the best score\n",
    "best_params = grid_search.best_params_\n",
    "best_score = grid_search.best_score_"
   ]
  },
  {
   "cell_type": "code",
   "execution_count": 117,
   "id": "23845583",
   "metadata": {},
   "outputs": [
    {
     "name": "stdout",
     "output_type": "stream",
     "text": [
      "Best parameters found:  {'max_depth': 10, 'min_samples_leaf': 4, 'min_samples_split': 10, 'n_estimators': 100}\n",
      "Best accuracy found:  0.681645525521561\n"
     ]
    }
   ],
   "source": [
    "# Print the results\n",
    "print(\"Best parameters found: \", best_params)\n",
    "print(\"Best accuracy found: \", best_score)"
   ]
  },
  {
   "cell_type": "code",
   "execution_count": 119,
   "id": "be0f90f6",
   "metadata": {},
   "outputs": [
    {
     "name": "stdout",
     "output_type": "stream",
     "text": [
      "Test set accuracy:  0.6597222222222222\n",
      "Classification report:\n",
      "               precision    recall  f1-score   support\n",
      "\n",
      "           0       0.66      0.75      0.70       849\n",
      "           1       0.66      0.56      0.60       735\n",
      "\n",
      "    accuracy                           0.66      1584\n",
      "   macro avg       0.66      0.65      0.65      1584\n",
      "weighted avg       0.66      0.66      0.66      1584\n",
      "\n"
     ]
    }
   ],
   "source": [
    "# Evaluate the best model on the test set\n",
    "optimized_rf = grid_search.best_estimator_\n",
    "y_pred_rf = optimized_rf.predict(X_test)\n",
    "\n",
    "print(\"Test set accuracy: \", accuracy_score(y_test, y_pred_rf))\n",
    "print(\"Classification report:\\n\", classification_report(y_test, y_pred_rf))"
   ]
  },
  {
   "cell_type": "code",
   "execution_count": 120,
   "id": "4fb69469",
   "metadata": {},
   "outputs": [],
   "source": [
    "# Optimized Random Forests Model Evaluation \n",
    "accuracy_score_optimized_rf = accuracy_score(y_test, y_pred_rf)\n",
    "precision_score_optimized_rf = precision_score(y_test, y_pred_rf)\n",
    "recall_score_optimized_rf = recall_score(y_test, y_pred_rf)\n",
    "f1_score_optimized_rf = f1_score(y_test, y_pred_rf)\n",
    "conf_matrix_optimized_rf = confusion_matrix(y_test, y_pred_rf)\n",
    "auc_base_optimized_rf = roc_auc_score(y_test, y_pred_rf)"
   ]
  },
  {
   "cell_type": "code",
   "execution_count": 121,
   "id": "83236daa",
   "metadata": {},
   "outputs": [],
   "source": [
    "race_statistical_parity_optimized_rf = statistical_parity(y_test, y_pred_rf, X_test['race'])\n",
    "race_equalized_odds_optimized_rf = equalized_odds(y_test, y_pred_rf, X_test['race'])\n",
    "sex_statistical_parity_optimized_rf = statistical_parity(y_test, y_pred_rf, X_test['sex'])\n",
    "sex_equalized_odds_optimized_rf = equalized_odds(y_test, y_pred_rf, X_test['sex'])"
   ]
  },
  {
   "cell_type": "code",
   "execution_count": 122,
   "id": "5bc80a86",
   "metadata": {},
   "outputs": [
    {
     "name": "stderr",
     "output_type": "stream",
     "text": [
      "/var/folders/h5/r3ldzs6x5bxb71r4t20ydphh0000gn/T/ipykernel_64515/110754608.py:33: FutureWarning: The frame.append method is deprecated and will be removed from pandas in a future version. Use pandas.concat instead.\n",
      "  return results_df.append(new_entry, ignore_index=True)\n"
     ]
    }
   ],
   "source": [
    "results_df = update_results(\n",
    "     model_name='Random Forest Classifier',\n",
    "     accuracy_nestedCV=rf_nestedCV_accuracy,  \n",
    "     AUC=auc_base_optimized_rf,  \n",
    "     f1=f1_score_optimized_rf, \n",
    "     precision=precision_score_optimized_rf,  \n",
    "     recall=recall_score_optimized_rf, \n",
    "     statistical_parity_sex =sex_statistical_parity_optimized_rf, \n",
    "     equalized_odds_sex =sex_equalized_odds_optimized_rf,\n",
    "     statistical_parity_race = race_statistical_parity_optimized_rf, \n",
    "     equalized_odds_race =race_equalized_odds_optimized_rf, \n",
    "     hyperparameters= best_params,\n",
    "     optimized_accuracy=accuracy_score_optimized_rf\n",
    ")"
   ]
  },
  {
   "cell_type": "code",
   "execution_count": 124,
   "id": "19e41ee2",
   "metadata": {},
   "outputs": [
    {
     "data": {
      "text/html": [
       "<div>\n",
       "<style scoped>\n",
       "    .dataframe tbody tr th:only-of-type {\n",
       "        vertical-align: middle;\n",
       "    }\n",
       "\n",
       "    .dataframe tbody tr th {\n",
       "        vertical-align: top;\n",
       "    }\n",
       "\n",
       "    .dataframe thead th {\n",
       "        text-align: right;\n",
       "    }\n",
       "</style>\n",
       "<table border=\"1\" class=\"dataframe\">\n",
       "  <thead>\n",
       "    <tr style=\"text-align: right;\">\n",
       "      <th></th>\n",
       "      <th>model_name</th>\n",
       "      <th>accuracy_nestedCV</th>\n",
       "      <th>AUC</th>\n",
       "      <th>f1</th>\n",
       "      <th>precision</th>\n",
       "      <th>recall</th>\n",
       "      <th>statistical_parity_sex</th>\n",
       "      <th>equalized_odds_sex</th>\n",
       "      <th>statistical_parity_race</th>\n",
       "      <th>equalized_odds_race</th>\n",
       "      <th>hyperparameters</th>\n",
       "      <th>optimized_accuracy</th>\n",
       "    </tr>\n",
       "  </thead>\n",
       "  <tbody>\n",
       "    <tr>\n",
       "      <th>0</th>\n",
       "      <td>Logistic Regression</td>\n",
       "      <td>0.668379</td>\n",
       "      <td>0.647045</td>\n",
       "      <td>0.570294</td>\n",
       "      <td>0.685115</td>\n",
       "      <td>0.488435</td>\n",
       "      <td>{'Statistical Parity Difference': 0.231, 'Stat...</td>\n",
       "      <td>{'Equalized Odds Difference': 0.27, 'Equalized...</td>\n",
       "      <td>{'Statistical Parity Difference': 0.261, 'Stat...</td>\n",
       "      <td>{'Equalized Odds Difference': 0.33, 'Equalized...</td>\n",
       "      <td>{'C': 0.011253355826007646, 'penalty': 'l2'}</td>\n",
       "      <td>0.65846</td>\n",
       "    </tr>\n",
       "    <tr>\n",
       "      <th>1</th>\n",
       "      <td>Support Vector Classifier (SVC)</td>\n",
       "      <td>0.665673</td>\n",
       "      <td>0.652525</td>\n",
       "      <td>0.607687</td>\n",
       "      <td>0.650621</td>\n",
       "      <td>0.570068</td>\n",
       "      <td>{'Statistical Parity Difference': 0.315, 'Stat...</td>\n",
       "      <td>{'Equalized Odds Difference': 0.387, 'Equalize...</td>\n",
       "      <td>{'Statistical Parity Difference': 0.308, 'Stat...</td>\n",
       "      <td>{'Equalized Odds Difference': 0.323, 'Equalize...</td>\n",
       "      <td>{'C': 100, 'gamma': 0.01, 'kernel': 'rbf'}</td>\n",
       "      <td>0.65846</td>\n",
       "    </tr>\n",
       "    <tr>\n",
       "      <th>2</th>\n",
       "      <td>K-Nearest Neighbors (KNN)</td>\n",
       "      <td>0.664045</td>\n",
       "      <td>0.646078</td>\n",
       "      <td>0.593032</td>\n",
       "      <td>0.651466</td>\n",
       "      <td>0.544218</td>\n",
       "      <td>{'Statistical Parity Difference': 0.225, 'Stat...</td>\n",
       "      <td>{'Equalized Odds Difference': 0.253, 'Equalize...</td>\n",
       "      <td>{'Statistical Parity Difference': 0.254, 'Stat...</td>\n",
       "      <td>{'Equalized Odds Difference': 0.303, 'Equalize...</td>\n",
       "      <td>{'n_neighbors': 28}</td>\n",
       "      <td>0.653409</td>\n",
       "    </tr>\n",
       "    <tr>\n",
       "      <th>3</th>\n",
       "      <td>Random Forest Classifier</td>\n",
       "      <td>0.663774</td>\n",
       "      <td>0.65279</td>\n",
       "      <td>0.6028</td>\n",
       "      <td>0.657556</td>\n",
       "      <td>0.556463</td>\n",
       "      <td>{'Statistical Parity Difference': 0.162, 'Stat...</td>\n",
       "      <td>{'Equalized Odds Difference': 0.206, 'Equalize...</td>\n",
       "      <td>{'Statistical Parity Difference': 0.254, 'Stat...</td>\n",
       "      <td>{'Equalized Odds Difference': 0.29, 'Equalized...</td>\n",
       "      <td>{'max_depth': 10, 'min_samples_leaf': 4, 'min_...</td>\n",
       "      <td>0.659722</td>\n",
       "    </tr>\n",
       "  </tbody>\n",
       "</table>\n",
       "</div>"
      ],
      "text/plain": [
       "                        model_name accuracy_nestedCV       AUC        f1  \\\n",
       "0              Logistic Regression          0.668379  0.647045  0.570294   \n",
       "1  Support Vector Classifier (SVC)          0.665673  0.652525  0.607687   \n",
       "2        K-Nearest Neighbors (KNN)          0.664045  0.646078  0.593032   \n",
       "3         Random Forest Classifier          0.663774   0.65279    0.6028   \n",
       "\n",
       "  precision    recall                             statistical_parity_sex  \\\n",
       "0  0.685115  0.488435  {'Statistical Parity Difference': 0.231, 'Stat...   \n",
       "1  0.650621  0.570068  {'Statistical Parity Difference': 0.315, 'Stat...   \n",
       "2  0.651466  0.544218  {'Statistical Parity Difference': 0.225, 'Stat...   \n",
       "3  0.657556  0.556463  {'Statistical Parity Difference': 0.162, 'Stat...   \n",
       "\n",
       "                                  equalized_odds_sex  \\\n",
       "0  {'Equalized Odds Difference': 0.27, 'Equalized...   \n",
       "1  {'Equalized Odds Difference': 0.387, 'Equalize...   \n",
       "2  {'Equalized Odds Difference': 0.253, 'Equalize...   \n",
       "3  {'Equalized Odds Difference': 0.206, 'Equalize...   \n",
       "\n",
       "                             statistical_parity_race  \\\n",
       "0  {'Statistical Parity Difference': 0.261, 'Stat...   \n",
       "1  {'Statistical Parity Difference': 0.308, 'Stat...   \n",
       "2  {'Statistical Parity Difference': 0.254, 'Stat...   \n",
       "3  {'Statistical Parity Difference': 0.254, 'Stat...   \n",
       "\n",
       "                                 equalized_odds_race  \\\n",
       "0  {'Equalized Odds Difference': 0.33, 'Equalized...   \n",
       "1  {'Equalized Odds Difference': 0.323, 'Equalize...   \n",
       "2  {'Equalized Odds Difference': 0.303, 'Equalize...   \n",
       "3  {'Equalized Odds Difference': 0.29, 'Equalized...   \n",
       "\n",
       "                                     hyperparameters optimized_accuracy  \n",
       "0       {'C': 0.011253355826007646, 'penalty': 'l2'}            0.65846  \n",
       "1         {'C': 100, 'gamma': 0.01, 'kernel': 'rbf'}            0.65846  \n",
       "2                                {'n_neighbors': 28}           0.653409  \n",
       "3  {'max_depth': 10, 'min_samples_leaf': 4, 'min_...           0.659722  "
      ]
     },
     "execution_count": 124,
     "metadata": {},
     "output_type": "execute_result"
    }
   ],
   "source": [
    "results_df"
   ]
  },
  {
   "cell_type": "markdown",
   "id": "a1a05e15",
   "metadata": {},
   "source": [
    "### 3.4 Gradient Boosting Machines"
   ]
  },
  {
   "cell_type": "markdown",
   "id": "0bd9d1c0",
   "metadata": {},
   "source": [
    "#### 3.4.1 Gradient Boosting Machines Nested cross-validation"
   ]
  },
  {
   "cell_type": "code",
   "execution_count": 125,
   "id": "8919c7a9",
   "metadata": {},
   "outputs": [],
   "source": [
    "from sklearn.ensemble import GradientBoostingClassifier\n",
    "\n",
    "# Define the parameter grid for hyperparameter tuning\n",
    "param_grid = {\n",
    "    'n_estimators': [100, 200, 300, 400],  # Number of boosting stages\n",
    "    'learning_rate': [0.01, 0.1, 0.2, 0.3],  # Learning rate\n",
    "    'max_depth': [3, 4, 5, 6]  # Maximum depth of the individual regression estimators\n",
    "}\n",
    "\n",
    "# Define the inner and outer cross-validation settings\n",
    "inner_cv = KFold(n_splits=5, shuffle=True, random_state=42)\n",
    "outer_cv = KFold(n_splits=5, shuffle=True, random_state=42)\n",
    "\n",
    "# Initialize the Random Forest classifier\n",
    "GB_NestedCV = GradientBoostingClassifier(random_state=42)\n",
    "\n",
    "# Set up the GridSearchCV object for inner CV\n",
    "grid_search = GridSearchCV(estimator=GB_NestedCV, param_grid=param_grid, cv=inner_cv, scoring='accuracy')\n",
    "\n",
    "# Run nested cross-validation and compute the average score\n",
    "nested_score = cross_val_score(grid_search, X_train, y_train, cv=outer_cv)"
   ]
  },
  {
   "cell_type": "code",
   "execution_count": 126,
   "id": "9b790003",
   "metadata": {},
   "outputs": [
    {
     "name": "stdout",
     "output_type": "stream",
     "text": [
      "Average accuracy from nested CV: 0.6792035674077985\n"
     ]
    }
   ],
   "source": [
    "GB_nestedCV_accuracy = nested_score.mean()\n",
    "print(\"Average accuracy from nested CV:\", GB_nestedCV_accuracy)"
   ]
  },
  {
   "cell_type": "markdown",
   "id": "f8f9cdce",
   "metadata": {},
   "source": [
    "#### 3.4.2 Fine-tuning Gradient Boosting Machines GridSearchCV"
   ]
  },
  {
   "cell_type": "code",
   "execution_count": 127,
   "id": "95f33d9f",
   "metadata": {},
   "outputs": [
    {
     "name": "stdout",
     "output_type": "stream",
     "text": [
      "Fitting 5 folds for each of 64 candidates, totalling 320 fits\n"
     ]
    }
   ],
   "source": [
    "# Initialize the Gradient Boosting classifier\n",
    "gb_classifier = GradientBoostingClassifier(random_state=42)\n",
    "\n",
    "# Set up the GridSearchCV object\n",
    "grid_search = GridSearchCV(gb_classifier, param_grid, cv=5, scoring='accuracy', verbose=1)\n",
    "\n",
    "# Fit the grid search to the data\n",
    "grid_search.fit(X_train, y_train)\n",
    "\n",
    "# Get the best parameters and the best score\n",
    "best_params = grid_search.best_params_\n",
    "best_score = grid_search.best_score_\n"
   ]
  },
  {
   "cell_type": "code",
   "execution_count": 128,
   "id": "c39b6bc7",
   "metadata": {},
   "outputs": [
    {
     "name": "stdout",
     "output_type": "stream",
     "text": [
      "Best parameters found:  {'learning_rate': 0.01, 'max_depth': 3, 'n_estimators': 300}\n",
      "Best accuracy found:  0.684084549911805\n"
     ]
    }
   ],
   "source": [
    "# Print the results\n",
    "print(\"Best parameters found: \", best_params)\n",
    "print(\"Best accuracy found: \", best_score)\n"
   ]
  },
  {
   "cell_type": "code",
   "execution_count": 129,
   "id": "9fad3721",
   "metadata": {},
   "outputs": [
    {
     "name": "stdout",
     "output_type": "stream",
     "text": [
      "Test set accuracy:  0.6603535353535354\n",
      "Classification report:\n",
      "               precision    recall  f1-score   support\n",
      "\n",
      "           0       0.67      0.73      0.70       849\n",
      "           1       0.65      0.58      0.61       735\n",
      "\n",
      "    accuracy                           0.66      1584\n",
      "   macro avg       0.66      0.65      0.66      1584\n",
      "weighted avg       0.66      0.66      0.66      1584\n",
      "\n"
     ]
    }
   ],
   "source": [
    "# Evaluate the best model on the test set\n",
    "optimize4d_gb = grid_search.best_estimator_\n",
    "y_pred_gb = optimized_gb.predict(X_test)\n",
    "\n",
    "print(\"Test set accuracy: \", accuracy_score(y_test, y_pred_gb))\n",
    "print(\"Classification report:\\n\", classification_report(y_test, y_pred_gb))"
   ]
  },
  {
   "cell_type": "code",
   "execution_count": 130,
   "id": "57f8d600",
   "metadata": {},
   "outputs": [],
   "source": [
    "# Optimized Random Forests Model Evaluation \n",
    "accuracy_score_optimized_gb = accuracy_score(y_test, y_pred_gb)\n",
    "precision_score_optimized_gb = precision_score(y_test, y_pred_gb)\n",
    "recall_score_optimized_gb = recall_score(y_test, y_pred_gb)\n",
    "f1_score_optimized_gb = f1_score(y_test, y_pred_gb)\n",
    "conf_matrix_optimized_gb = confusion_matrix(y_test, y_pred_gb)\n",
    "auc_base_optimized_gb = roc_auc_score(y_test, y_pred_gb)"
   ]
  },
  {
   "cell_type": "code",
   "execution_count": 131,
   "id": "2dd47116",
   "metadata": {},
   "outputs": [],
   "source": [
    "race_statistical_parity_optimized_gb = statistical_parity(y_test, y_pred_gb, X_test['race'])\n",
    "race_equalized_odds_optimized_gb = equalized_odds(y_test, y_pred_gb, X_test['race'])\n",
    "sex_statistical_parity_optimized_gb = statistical_parity(y_test, y_pred_gb, X_test['sex'])\n",
    "sex_equalized_odds_optimized_gb = equalized_odds(y_test, y_pred_gb, X_test['sex'])"
   ]
  },
  {
   "cell_type": "code",
   "execution_count": 132,
   "id": "316f1387",
   "metadata": {},
   "outputs": [
    {
     "name": "stderr",
     "output_type": "stream",
     "text": [
      "/var/folders/h5/r3ldzs6x5bxb71r4t20ydphh0000gn/T/ipykernel_64515/110754608.py:33: FutureWarning: The frame.append method is deprecated and will be removed from pandas in a future version. Use pandas.concat instead.\n",
      "  return results_df.append(new_entry, ignore_index=True)\n"
     ]
    }
   ],
   "source": [
    "results_df = update_results(\n",
    "     model_name='Gradient Boosting Classifier',\n",
    "     accuracy_nestedCV=GB_nestedCV_accuracy,  \n",
    "     AUC=auc_base_optimized_gb,  \n",
    "     f1=f1_score_optimized_gb, \n",
    "     precision=precision_score_optimized_gb,  \n",
    "     recall=recall_score_optimized_gb, \n",
    "     statistical_parity_sex =sex_statistical_parity_optimized_gb, \n",
    "     equalized_odds_sex =sex_equalized_odds_optimized_gb,\n",
    "     statistical_parity_race = race_statistical_parity_optimized_gb, \n",
    "     equalized_odds_race =race_equalized_odds_optimized_gb, \n",
    "     hyperparameters= best_params,\n",
    "     optimized_accuracy=accuracy_score_optimized_gb\n",
    ")"
   ]
  },
  {
   "cell_type": "code",
   "execution_count": 133,
   "id": "cc030ae6",
   "metadata": {},
   "outputs": [
    {
     "data": {
      "text/html": [
       "<div>\n",
       "<style scoped>\n",
       "    .dataframe tbody tr th:only-of-type {\n",
       "        vertical-align: middle;\n",
       "    }\n",
       "\n",
       "    .dataframe tbody tr th {\n",
       "        vertical-align: top;\n",
       "    }\n",
       "\n",
       "    .dataframe thead th {\n",
       "        text-align: right;\n",
       "    }\n",
       "</style>\n",
       "<table border=\"1\" class=\"dataframe\">\n",
       "  <thead>\n",
       "    <tr style=\"text-align: right;\">\n",
       "      <th></th>\n",
       "      <th>model_name</th>\n",
       "      <th>accuracy_nestedCV</th>\n",
       "      <th>AUC</th>\n",
       "      <th>f1</th>\n",
       "      <th>precision</th>\n",
       "      <th>recall</th>\n",
       "      <th>statistical_parity_sex</th>\n",
       "      <th>equalized_odds_sex</th>\n",
       "      <th>statistical_parity_race</th>\n",
       "      <th>equalized_odds_race</th>\n",
       "      <th>hyperparameters</th>\n",
       "      <th>optimized_accuracy</th>\n",
       "    </tr>\n",
       "  </thead>\n",
       "  <tbody>\n",
       "    <tr>\n",
       "      <th>0</th>\n",
       "      <td>Logistic Regression</td>\n",
       "      <td>0.668379</td>\n",
       "      <td>0.647045</td>\n",
       "      <td>0.570294</td>\n",
       "      <td>0.685115</td>\n",
       "      <td>0.488435</td>\n",
       "      <td>{'Statistical Parity Difference': 0.231, 'Stat...</td>\n",
       "      <td>{'Equalized Odds Difference': 0.27, 'Equalized...</td>\n",
       "      <td>{'Statistical Parity Difference': 0.261, 'Stat...</td>\n",
       "      <td>{'Equalized Odds Difference': 0.33, 'Equalized...</td>\n",
       "      <td>{'C': 0.011253355826007646, 'penalty': 'l2'}</td>\n",
       "      <td>0.65846</td>\n",
       "    </tr>\n",
       "    <tr>\n",
       "      <th>1</th>\n",
       "      <td>Support Vector Classifier (SVC)</td>\n",
       "      <td>0.665673</td>\n",
       "      <td>0.652525</td>\n",
       "      <td>0.607687</td>\n",
       "      <td>0.650621</td>\n",
       "      <td>0.570068</td>\n",
       "      <td>{'Statistical Parity Difference': 0.315, 'Stat...</td>\n",
       "      <td>{'Equalized Odds Difference': 0.387, 'Equalize...</td>\n",
       "      <td>{'Statistical Parity Difference': 0.308, 'Stat...</td>\n",
       "      <td>{'Equalized Odds Difference': 0.323, 'Equalize...</td>\n",
       "      <td>{'C': 100, 'gamma': 0.01, 'kernel': 'rbf'}</td>\n",
       "      <td>0.65846</td>\n",
       "    </tr>\n",
       "    <tr>\n",
       "      <th>2</th>\n",
       "      <td>K-Nearest Neighbors (KNN)</td>\n",
       "      <td>0.664045</td>\n",
       "      <td>0.646078</td>\n",
       "      <td>0.593032</td>\n",
       "      <td>0.651466</td>\n",
       "      <td>0.544218</td>\n",
       "      <td>{'Statistical Parity Difference': 0.225, 'Stat...</td>\n",
       "      <td>{'Equalized Odds Difference': 0.253, 'Equalize...</td>\n",
       "      <td>{'Statistical Parity Difference': 0.254, 'Stat...</td>\n",
       "      <td>{'Equalized Odds Difference': 0.303, 'Equalize...</td>\n",
       "      <td>{'n_neighbors': 28}</td>\n",
       "      <td>0.653409</td>\n",
       "    </tr>\n",
       "    <tr>\n",
       "      <th>3</th>\n",
       "      <td>Random Forest Classifier</td>\n",
       "      <td>0.663774</td>\n",
       "      <td>0.65279</td>\n",
       "      <td>0.6028</td>\n",
       "      <td>0.657556</td>\n",
       "      <td>0.556463</td>\n",
       "      <td>{'Statistical Parity Difference': 0.162, 'Stat...</td>\n",
       "      <td>{'Equalized Odds Difference': 0.206, 'Equalize...</td>\n",
       "      <td>{'Statistical Parity Difference': 0.254, 'Stat...</td>\n",
       "      <td>{'Equalized Odds Difference': 0.29, 'Equalized...</td>\n",
       "      <td>{'max_depth': 10, 'min_samples_leaf': 4, 'min_...</td>\n",
       "      <td>0.659722</td>\n",
       "    </tr>\n",
       "    <tr>\n",
       "      <th>4</th>\n",
       "      <td>Gradient Boosting Classifier</td>\n",
       "      <td>0.679204</td>\n",
       "      <td>0.654931</td>\n",
       "      <td>0.61295</td>\n",
       "      <td>0.650382</td>\n",
       "      <td>0.579592</td>\n",
       "      <td>{'Statistical Parity Difference': 0.2, 'Statis...</td>\n",
       "      <td>{'Equalized Odds Difference': 0.244, 'Equalize...</td>\n",
       "      <td>{'Statistical Parity Difference': 0.23, 'Stati...</td>\n",
       "      <td>{'Equalized Odds Difference': 0.263, 'Equalize...</td>\n",
       "      <td>{'learning_rate': 0.01, 'max_depth': 3, 'n_est...</td>\n",
       "      <td>0.660354</td>\n",
       "    </tr>\n",
       "  </tbody>\n",
       "</table>\n",
       "</div>"
      ],
      "text/plain": [
       "                        model_name accuracy_nestedCV       AUC        f1  \\\n",
       "0              Logistic Regression          0.668379  0.647045  0.570294   \n",
       "1  Support Vector Classifier (SVC)          0.665673  0.652525  0.607687   \n",
       "2        K-Nearest Neighbors (KNN)          0.664045  0.646078  0.593032   \n",
       "3         Random Forest Classifier          0.663774   0.65279    0.6028   \n",
       "4     Gradient Boosting Classifier          0.679204  0.654931   0.61295   \n",
       "\n",
       "  precision    recall                             statistical_parity_sex  \\\n",
       "0  0.685115  0.488435  {'Statistical Parity Difference': 0.231, 'Stat...   \n",
       "1  0.650621  0.570068  {'Statistical Parity Difference': 0.315, 'Stat...   \n",
       "2  0.651466  0.544218  {'Statistical Parity Difference': 0.225, 'Stat...   \n",
       "3  0.657556  0.556463  {'Statistical Parity Difference': 0.162, 'Stat...   \n",
       "4  0.650382  0.579592  {'Statistical Parity Difference': 0.2, 'Statis...   \n",
       "\n",
       "                                  equalized_odds_sex  \\\n",
       "0  {'Equalized Odds Difference': 0.27, 'Equalized...   \n",
       "1  {'Equalized Odds Difference': 0.387, 'Equalize...   \n",
       "2  {'Equalized Odds Difference': 0.253, 'Equalize...   \n",
       "3  {'Equalized Odds Difference': 0.206, 'Equalize...   \n",
       "4  {'Equalized Odds Difference': 0.244, 'Equalize...   \n",
       "\n",
       "                             statistical_parity_race  \\\n",
       "0  {'Statistical Parity Difference': 0.261, 'Stat...   \n",
       "1  {'Statistical Parity Difference': 0.308, 'Stat...   \n",
       "2  {'Statistical Parity Difference': 0.254, 'Stat...   \n",
       "3  {'Statistical Parity Difference': 0.254, 'Stat...   \n",
       "4  {'Statistical Parity Difference': 0.23, 'Stati...   \n",
       "\n",
       "                                 equalized_odds_race  \\\n",
       "0  {'Equalized Odds Difference': 0.33, 'Equalized...   \n",
       "1  {'Equalized Odds Difference': 0.323, 'Equalize...   \n",
       "2  {'Equalized Odds Difference': 0.303, 'Equalize...   \n",
       "3  {'Equalized Odds Difference': 0.29, 'Equalized...   \n",
       "4  {'Equalized Odds Difference': 0.263, 'Equalize...   \n",
       "\n",
       "                                     hyperparameters optimized_accuracy  \n",
       "0       {'C': 0.011253355826007646, 'penalty': 'l2'}            0.65846  \n",
       "1         {'C': 100, 'gamma': 0.01, 'kernel': 'rbf'}            0.65846  \n",
       "2                                {'n_neighbors': 28}           0.653409  \n",
       "3  {'max_depth': 10, 'min_samples_leaf': 4, 'min_...           0.659722  \n",
       "4  {'learning_rate': 0.01, 'max_depth': 3, 'n_est...           0.660354  "
      ]
     },
     "execution_count": 133,
     "metadata": {},
     "output_type": "execute_result"
    }
   ],
   "source": [
    "results_df"
   ]
  },
  {
   "cell_type": "markdown",
   "id": "99b0fd48",
   "metadata": {},
   "source": [
    "## 4. Test the Top Two Winning Models using Repeated Cross-Validation"
   ]
  },
  {
   "cell_type": "code",
   "execution_count": 134,
   "id": "550b9371",
   "metadata": {
    "scrolled": true
   },
   "outputs": [
    {
     "data": {
      "text/html": [
       "<div>\n",
       "<style scoped>\n",
       "    .dataframe tbody tr th:only-of-type {\n",
       "        vertical-align: middle;\n",
       "    }\n",
       "\n",
       "    .dataframe tbody tr th {\n",
       "        vertical-align: top;\n",
       "    }\n",
       "\n",
       "    .dataframe thead th {\n",
       "        text-align: right;\n",
       "    }\n",
       "</style>\n",
       "<table border=\"1\" class=\"dataframe\">\n",
       "  <thead>\n",
       "    <tr style=\"text-align: right;\">\n",
       "      <th></th>\n",
       "      <th>model_name</th>\n",
       "      <th>accuracy_nestedCV</th>\n",
       "      <th>AUC</th>\n",
       "      <th>f1</th>\n",
       "      <th>precision</th>\n",
       "      <th>recall</th>\n",
       "      <th>statistical_parity_sex</th>\n",
       "      <th>equalized_odds_sex</th>\n",
       "      <th>statistical_parity_race</th>\n",
       "      <th>equalized_odds_race</th>\n",
       "      <th>hyperparameters</th>\n",
       "      <th>optimized_accuracy</th>\n",
       "    </tr>\n",
       "  </thead>\n",
       "  <tbody>\n",
       "    <tr>\n",
       "      <th>4</th>\n",
       "      <td>Gradient Boosting Classifier</td>\n",
       "      <td>0.679204</td>\n",
       "      <td>0.654931</td>\n",
       "      <td>0.61295</td>\n",
       "      <td>0.650382</td>\n",
       "      <td>0.579592</td>\n",
       "      <td>{'Statistical Parity Difference': 0.2, 'Statis...</td>\n",
       "      <td>{'Equalized Odds Difference': 0.244, 'Equalize...</td>\n",
       "      <td>{'Statistical Parity Difference': 0.23, 'Stati...</td>\n",
       "      <td>{'Equalized Odds Difference': 0.263, 'Equalize...</td>\n",
       "      <td>{'learning_rate': 0.01, 'max_depth': 3, 'n_est...</td>\n",
       "      <td>0.660354</td>\n",
       "    </tr>\n",
       "    <tr>\n",
       "      <th>0</th>\n",
       "      <td>Logistic Regression</td>\n",
       "      <td>0.668379</td>\n",
       "      <td>0.647045</td>\n",
       "      <td>0.570294</td>\n",
       "      <td>0.685115</td>\n",
       "      <td>0.488435</td>\n",
       "      <td>{'Statistical Parity Difference': 0.231, 'Stat...</td>\n",
       "      <td>{'Equalized Odds Difference': 0.27, 'Equalized...</td>\n",
       "      <td>{'Statistical Parity Difference': 0.261, 'Stat...</td>\n",
       "      <td>{'Equalized Odds Difference': 0.33, 'Equalized...</td>\n",
       "      <td>{'C': 0.011253355826007646, 'penalty': 'l2'}</td>\n",
       "      <td>0.65846</td>\n",
       "    </tr>\n",
       "    <tr>\n",
       "      <th>1</th>\n",
       "      <td>Support Vector Classifier (SVC)</td>\n",
       "      <td>0.665673</td>\n",
       "      <td>0.652525</td>\n",
       "      <td>0.607687</td>\n",
       "      <td>0.650621</td>\n",
       "      <td>0.570068</td>\n",
       "      <td>{'Statistical Parity Difference': 0.315, 'Stat...</td>\n",
       "      <td>{'Equalized Odds Difference': 0.387, 'Equalize...</td>\n",
       "      <td>{'Statistical Parity Difference': 0.308, 'Stat...</td>\n",
       "      <td>{'Equalized Odds Difference': 0.323, 'Equalize...</td>\n",
       "      <td>{'C': 100, 'gamma': 0.01, 'kernel': 'rbf'}</td>\n",
       "      <td>0.65846</td>\n",
       "    </tr>\n",
       "    <tr>\n",
       "      <th>2</th>\n",
       "      <td>K-Nearest Neighbors (KNN)</td>\n",
       "      <td>0.664045</td>\n",
       "      <td>0.646078</td>\n",
       "      <td>0.593032</td>\n",
       "      <td>0.651466</td>\n",
       "      <td>0.544218</td>\n",
       "      <td>{'Statistical Parity Difference': 0.225, 'Stat...</td>\n",
       "      <td>{'Equalized Odds Difference': 0.253, 'Equalize...</td>\n",
       "      <td>{'Statistical Parity Difference': 0.254, 'Stat...</td>\n",
       "      <td>{'Equalized Odds Difference': 0.303, 'Equalize...</td>\n",
       "      <td>{'n_neighbors': 28}</td>\n",
       "      <td>0.653409</td>\n",
       "    </tr>\n",
       "    <tr>\n",
       "      <th>3</th>\n",
       "      <td>Random Forest Classifier</td>\n",
       "      <td>0.663774</td>\n",
       "      <td>0.65279</td>\n",
       "      <td>0.6028</td>\n",
       "      <td>0.657556</td>\n",
       "      <td>0.556463</td>\n",
       "      <td>{'Statistical Parity Difference': 0.162, 'Stat...</td>\n",
       "      <td>{'Equalized Odds Difference': 0.206, 'Equalize...</td>\n",
       "      <td>{'Statistical Parity Difference': 0.254, 'Stat...</td>\n",
       "      <td>{'Equalized Odds Difference': 0.29, 'Equalized...</td>\n",
       "      <td>{'max_depth': 10, 'min_samples_leaf': 4, 'min_...</td>\n",
       "      <td>0.659722</td>\n",
       "    </tr>\n",
       "  </tbody>\n",
       "</table>\n",
       "</div>"
      ],
      "text/plain": [
       "                        model_name accuracy_nestedCV       AUC        f1  \\\n",
       "4     Gradient Boosting Classifier          0.679204  0.654931   0.61295   \n",
       "0              Logistic Regression          0.668379  0.647045  0.570294   \n",
       "1  Support Vector Classifier (SVC)          0.665673  0.652525  0.607687   \n",
       "2        K-Nearest Neighbors (KNN)          0.664045  0.646078  0.593032   \n",
       "3         Random Forest Classifier          0.663774   0.65279    0.6028   \n",
       "\n",
       "  precision    recall                             statistical_parity_sex  \\\n",
       "4  0.650382  0.579592  {'Statistical Parity Difference': 0.2, 'Statis...   \n",
       "0  0.685115  0.488435  {'Statistical Parity Difference': 0.231, 'Stat...   \n",
       "1  0.650621  0.570068  {'Statistical Parity Difference': 0.315, 'Stat...   \n",
       "2  0.651466  0.544218  {'Statistical Parity Difference': 0.225, 'Stat...   \n",
       "3  0.657556  0.556463  {'Statistical Parity Difference': 0.162, 'Stat...   \n",
       "\n",
       "                                  equalized_odds_sex  \\\n",
       "4  {'Equalized Odds Difference': 0.244, 'Equalize...   \n",
       "0  {'Equalized Odds Difference': 0.27, 'Equalized...   \n",
       "1  {'Equalized Odds Difference': 0.387, 'Equalize...   \n",
       "2  {'Equalized Odds Difference': 0.253, 'Equalize...   \n",
       "3  {'Equalized Odds Difference': 0.206, 'Equalize...   \n",
       "\n",
       "                             statistical_parity_race  \\\n",
       "4  {'Statistical Parity Difference': 0.23, 'Stati...   \n",
       "0  {'Statistical Parity Difference': 0.261, 'Stat...   \n",
       "1  {'Statistical Parity Difference': 0.308, 'Stat...   \n",
       "2  {'Statistical Parity Difference': 0.254, 'Stat...   \n",
       "3  {'Statistical Parity Difference': 0.254, 'Stat...   \n",
       "\n",
       "                                 equalized_odds_race  \\\n",
       "4  {'Equalized Odds Difference': 0.263, 'Equalize...   \n",
       "0  {'Equalized Odds Difference': 0.33, 'Equalized...   \n",
       "1  {'Equalized Odds Difference': 0.323, 'Equalize...   \n",
       "2  {'Equalized Odds Difference': 0.303, 'Equalize...   \n",
       "3  {'Equalized Odds Difference': 0.29, 'Equalized...   \n",
       "\n",
       "                                     hyperparameters optimized_accuracy  \n",
       "4  {'learning_rate': 0.01, 'max_depth': 3, 'n_est...           0.660354  \n",
       "0       {'C': 0.011253355826007646, 'penalty': 'l2'}            0.65846  \n",
       "1         {'C': 100, 'gamma': 0.01, 'kernel': 'rbf'}            0.65846  \n",
       "2                                {'n_neighbors': 28}           0.653409  \n",
       "3  {'max_depth': 10, 'min_samples_leaf': 4, 'min_...           0.659722  "
      ]
     },
     "execution_count": 134,
     "metadata": {},
     "output_type": "execute_result"
    }
   ],
   "source": [
    "results_df.sort_values(by='accuracy_nestedCV', ascending=False)"
   ]
  },
  {
   "cell_type": "code",
   "execution_count": 138,
   "id": "2bbd4c6a",
   "metadata": {},
   "outputs": [],
   "source": [
    "gb_hyperparameters = results_df.iloc[4, 10]\n",
    "log_reg_hyperparameters = results_df.iloc[0, 10]"
   ]
  },
  {
   "cell_type": "code",
   "execution_count": 141,
   "id": "806e4df3",
   "metadata": {},
   "outputs": [
    {
     "data": {
      "text/plain": [
       "0.01"
      ]
     },
     "execution_count": 141,
     "metadata": {},
     "output_type": "execute_result"
    }
   ],
   "source": [
    "gb_hyperparameters['learning_rate']"
   ]
  },
  {
   "cell_type": "code",
   "execution_count": 144,
   "id": "1d5ec972",
   "metadata": {},
   "outputs": [],
   "source": [
    "# Data Preparation\n",
    "X = df_clean.drop(['two_year_recid'], axis=1)\n",
    "y = df_clean['two_year_recid']\n",
    "\n",
    "# Initialize a list to store accuracy scores\n",
    "gbc_accuracy = []\n",
    "log_reg_accuracy = []\n",
    "\n",
    "# Repeat the train/test split 20 times with different random seeds\n",
    "for i in range(100):\n",
    "    random_state = i  # Use i as the random seed\n",
    "    \n",
    "    # Split the data into training and testing sets\n",
    "    X_train, X_test, y_train, y_test = train_test_split(X, y, test_size=0.3, random_state=random_state)\n",
    "    \n",
    "    # Create and fit the Gradient Boosting Classifier and Logisitic Regression\n",
    "    gbc = GradientBoostingClassifier(learning_rate=gb_hyperparameters['learning_rate'], \n",
    "                                     max_depth=gb_hyperparameters['max_depth'], \n",
    "                                     n_estimators=gb_hyperparameters['n_estimators'], \n",
    "                                     random_state=random_state)\n",
    "    gbc.fit(X_train, y_train)\n",
    "\n",
    "    log_reg = LogisticRegression(C=log_reg_hyperparameters['C'], \n",
    "                                 penalty=log_reg_hyperparameters['penalty'],\n",
    "                                 solver='liblinear',\n",
    "                                 random_state=random_state)\n",
    "    log_reg.fit(X_train, y_train)\n",
    "    \n",
    "    # Make predictions on the test set\n",
    "    y_pred_gbc = gbc.predict(X_test)\n",
    "    y_pred_logreg = log_reg.predict(X_test)\n",
    "    \n",
    "    # Calculate accuracy score and append it to the list\n",
    "    gbc_accuracy.append(accuracy_score(y_test, y_pred_gbc))\n",
    "    log_reg_accuracy.append(accuracy_score(y_test, y_pred_logreg))\n"
   ]
  },
  {
   "cell_type": "code",
   "execution_count": 145,
   "id": "7906dd75",
   "metadata": {},
   "outputs": [
    {
     "data": {
      "image/png": "[encoded data removed]",
      "text/plain": [
       "<Figure size 432x288 with 1 Axes>"
      ]
     },
     "metadata": {
      "needs_background": "light"
     },
     "output_type": "display_data"
    }
   ],
   "source": [
    "# Plot a boxplot of the accuracies\n",
    "plt.boxplot([gbc_accuracy, log_reg_accuracy])\n",
    "plt.title('Boxplot of Accuracies across 100 Repetitions')\n",
    "plt.xticks([1,2],['GBC','LogReg'])\n",
    "plt.ylabel('Accuracy')\n",
    "plt.show()"
   ]
  },
  {
   "cell_type": "code",
   "execution_count": 149,
   "id": "291b6f1a",
   "metadata": {},
   "outputs": [
    {
     "name": "stdout",
     "output_type": "stream",
     "text": [
      "Gradient Boosting Classifier average performance: 0.674\n",
      "Logistic Regression average performance: 0.668\n"
     ]
    }
   ],
   "source": [
    "print(\"Gradient Boosting Classifier average performance:\", round(np.mean(gbc_accuracy), 3))\n",
    "print(\"Logistic Regression average performance:\", round(np.mean(log_reg_accuracy), 3))"
   ]
  },
  {
   "cell_type": "markdown",
   "id": "86afee7e",
   "metadata": {},
   "source": [
    "After an extensive evaluation process using Repeated Cross-Validation with various split random states, we have gathered substantial evidence to conclude that the Gradient Boosting Classifier consistently outperforms the Logistic Regression model in predicting recidivism. This conclusion is drawn from an average performance metric across multiple iterations and random splits, ensuring a robust comparison between the two models.\n",
    "\n",
    "The superior performance of the Gradient Boosting Classifier could be attributed to its ability to model complex, non-linear relationships in the data. While the Logistic Regression model offers simplicity and interpretability, the Gradient Boosting Classifier provides a more nuanced understanding of the underlying patterns in the data, which is crucial for accurate predictions in the context of criminal justice.\n",
    "\n",
    "Moving forward, our focus would be on fine-tuning the Gradient Boosting Classifier to further enhance its predictive performance while ensuring that it adheres to fairness principles and does not exacerbate existing biases. "
   ]
  },
  {
   "cell_type": "code",
   "execution_count": 153,
   "id": "fdd7f22b",
   "metadata": {},
   "outputs": [],
   "source": [
    "df_clean.to_csv('data/df_cleaned.csv', index=False)"
   ]
  }
 ],
 "metadata": {
  "kernelspec": {
   "display_name": "Python 3 (ipykernel)",
   "language": "python",
   "name": "python3"
  },
  "language_info": {
   "codemirror_mode": {
    "name": "ipython",
    "version": 3
   },
   "file_extension": ".py",
   "mimetype": "text/x-python",
   "name": "python",
   "nbconvert_exporter": "python",
   "pygments_lexer": "ipython3",
   "version": "3.9.12"
  }
 },
 "nbformat": 4,
 "nbformat_minor": 5
}
