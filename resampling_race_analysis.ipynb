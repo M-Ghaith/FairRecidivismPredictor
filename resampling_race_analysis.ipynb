{
 "cells": [
  {
   "cell_type": "markdown",
   "id": "1ecc6b5d-dfc8-4c75-a914-4bce08e5f59f",
   "metadata": {},
   "source": [
    "## Investigating which resampling technique will results in balance of fairness acroos metrics of statistical partiy and equalized odds"
   ]
  },
  {
   "cell_type": "code",
   "execution_count": 50,
   "id": "b4704108-b9a6-47fa-9eae-9c575fa1cf2e",
   "metadata": {
    "ExecuteTime": {
     "end_time": "2023-11-24T12:13:10.226405Z",
     "start_time": "2023-11-24T12:13:10.205556Z"
    }
   },
   "outputs": [
    {
     "data": {
      "text/plain": "   sex  juv_fel_count  juv_misd_count  juv_other_count  priors_count  \\\n0    1       -0.14965       -0.190564        -0.247266     -0.709995   \n1    1       -0.14965       -0.190564         1.827564      0.110444   \n2    1       -0.14965       -0.190564        -0.247266      2.161540   \n3    0       -0.14965       -0.190564        -0.247266     -0.709995   \n4    1       -0.14965       -0.190564        -0.247266     -0.709995   \n\n   two_year_recid  age_cat_25-45  age_cat_Greaterthan45  age_cat_Lessthan25  \\\n0               1              1                      0                   0   \n1               1              0                      0                   1   \n2               1              1                      0                   0   \n3               0              1                      0                   0   \n4               0              1                      0                   0   \n\n   charge_degree  race  \n0              1     1  \n1              1     1  \n2              1     0  \n3              0     0  \n4              1     0  ",
      "text/html": "<div>\n<style scoped>\n    .dataframe tbody tr th:only-of-type {\n        vertical-align: middle;\n    }\n\n    .dataframe tbody tr th {\n        vertical-align: top;\n    }\n\n    .dataframe thead th {\n        text-align: right;\n    }\n</style>\n<table border=\"1\" class=\"dataframe\">\n  <thead>\n    <tr style=\"text-align: right;\">\n      <th></th>\n      <th>sex</th>\n      <th>juv_fel_count</th>\n      <th>juv_misd_count</th>\n      <th>juv_other_count</th>\n      <th>priors_count</th>\n      <th>two_year_recid</th>\n      <th>age_cat_25-45</th>\n      <th>age_cat_Greaterthan45</th>\n      <th>age_cat_Lessthan25</th>\n      <th>charge_degree</th>\n      <th>race</th>\n    </tr>\n  </thead>\n  <tbody>\n    <tr>\n      <th>0</th>\n      <td>1</td>\n      <td>-0.14965</td>\n      <td>-0.190564</td>\n      <td>-0.247266</td>\n      <td>-0.709995</td>\n      <td>1</td>\n      <td>1</td>\n      <td>0</td>\n      <td>0</td>\n      <td>1</td>\n      <td>1</td>\n    </tr>\n    <tr>\n      <th>1</th>\n      <td>1</td>\n      <td>-0.14965</td>\n      <td>-0.190564</td>\n      <td>1.827564</td>\n      <td>0.110444</td>\n      <td>1</td>\n      <td>0</td>\n      <td>0</td>\n      <td>1</td>\n      <td>1</td>\n      <td>1</td>\n    </tr>\n    <tr>\n      <th>2</th>\n      <td>1</td>\n      <td>-0.14965</td>\n      <td>-0.190564</td>\n      <td>-0.247266</td>\n      <td>2.161540</td>\n      <td>1</td>\n      <td>1</td>\n      <td>0</td>\n      <td>0</td>\n      <td>1</td>\n      <td>0</td>\n    </tr>\n    <tr>\n      <th>3</th>\n      <td>0</td>\n      <td>-0.14965</td>\n      <td>-0.190564</td>\n      <td>-0.247266</td>\n      <td>-0.709995</td>\n      <td>0</td>\n      <td>1</td>\n      <td>0</td>\n      <td>0</td>\n      <td>0</td>\n      <td>0</td>\n    </tr>\n    <tr>\n      <th>4</th>\n      <td>1</td>\n      <td>-0.14965</td>\n      <td>-0.190564</td>\n      <td>-0.247266</td>\n      <td>-0.709995</td>\n      <td>0</td>\n      <td>1</td>\n      <td>0</td>\n      <td>0</td>\n      <td>1</td>\n      <td>0</td>\n    </tr>\n  </tbody>\n</table>\n</div>"
     },
     "execution_count": 50,
     "metadata": {},
     "output_type": "execute_result"
    }
   ],
   "source": [
    "import pandas as pd\n",
    "\n",
    "# Load the data\n",
    "file_path = 'data/df_cleaned.csv'\n",
    "df = pd.read_csv(file_path)\n",
    "\n",
    "df.head()"
   ]
  },
  {
   "cell_type": "code",
   "execution_count": 51,
   "id": "d3c521f3-69a1-4320-b64b-149a759a0dc8",
   "metadata": {
    "ExecuteTime": {
     "end_time": "2023-11-24T12:13:10.411898Z",
     "start_time": "2023-11-24T12:13:10.397197Z"
    }
   },
   "outputs": [],
   "source": [
    "from sklearn.ensemble import GradientBoostingClassifier\n",
    "from sklearn.model_selection import train_test_split\n",
    "from sklearn.metrics import accuracy_score, f1_score, precision_score, recall_score, classification_report, confusion_matrix, roc_auc_score\n",
    "from fairness_metrics import statistical_parity, equalized_odds\n",
    "from metricFrame_vis import analyze_metrics_using_metricFrame"
   ]
  },
  {
   "cell_type": "code",
   "execution_count": 58,
   "id": "a9427fa7-64d3-4c82-a3bd-18b5bf26f161",
   "metadata": {
    "ExecuteTime": {
     "end_time": "2023-11-24T12:14:33.908806Z",
     "start_time": "2023-11-24T12:14:33.894097Z"
    }
   },
   "outputs": [],
   "source": [
    "# Initialize a DataFrame to store the results of our analysis for esay comparison\n",
    "\n",
    "resampling_results_df = pd.DataFrame(columns=[\n",
    "    'resampling_group',\n",
    "    'model_accuracy',\n",
    "    'AUC', \n",
    "    'f1', \n",
    "    'precision', \n",
    "    'recall', \n",
    "    'statistical_parity_race',\n",
    "    'equalized_odds_race',\n",
    "])\n",
    "\n",
    "# Function to update the DataFrame with new results\n",
    "def update_results(resampling_group,\n",
    "                   model_accuracy, \n",
    "                   AUC, \n",
    "                   f1, \n",
    "                   precision, \n",
    "                   recall, \n",
    "                   statistical_parity_race, \n",
    "                   equalized_odds_race\n",
    "                  ):\n",
    "    new_entry = {\n",
    "        'resampling_group': resampling_group, \n",
    "        'model_accuracy': model_accuracy, \n",
    "        'AUC': AUC, \n",
    "        'f1': f1, \n",
    "        'precision': precision, \n",
    "        'recall': recall, \n",
    "        'statistical_parity_race': str(statistical_parity_race), \n",
    "        'equalized_odds_race': str(equalized_odds_race), \n",
    "    }\n",
    "    new_row = pd.DataFrame(new_entry, index=[len(resampling_results_df)])\n",
    "    return pd.concat([new_row, resampling_results_df])\n",
    "\n",
    "\n",
    "# Example usage after evaluating a model\n",
    "# resampling_results_df = update_results(\n",
    "#     resampling_group='upsampling',\n",
    "#     model_accuracy=0.85,  \n",
    "#     AUC=0.90,  \n",
    "#     f1=0.87, \n",
    "#     precision=0.88,  \n",
    "#     recall=0.86, \n",
    "#     statistical_parity_sex =0.89, \n",
    "#     equalized_odds_sex =0.99,\n",
    "#     statistical_parity_race = 0.23, \n",
    "#     equalized_odds_race =0.33\n",
    "# )"
   ]
  },
  {
   "cell_type": "markdown",
   "id": "421f1e75-8aed-4f41-8958-d2d8b656ba06",
   "metadata": {},
   "source": [
    "## 1. Upsampled race"
   ]
  },
  {
   "cell_type": "code",
   "execution_count": 59,
   "id": "ce9a0524-e230-4cdd-83d3-9e7dff614764",
   "metadata": {
    "ExecuteTime": {
     "end_time": "2023-11-24T12:14:36.102535Z",
     "start_time": "2023-11-24T12:14:35.538133Z"
    }
   },
   "outputs": [],
   "source": [
    "# Upsampling RACE feature\n",
    "group_1 = df[df['race'] == 1]\n",
    "group_0 = df[df['race'] == 0]\n",
    "\n",
    "\n",
    "# Function to resample each subgroup to have the same number of samples\n",
    "def resample_group(df, group_size):\n",
    "    return df.sample(n=group_size, replace=True, random_state=42)\n",
    "\n",
    "max_group_size = max(len(group_0[group_0['two_year_recid'] == 1]), len(group_1[group_1['two_year_recid'] == 1]))\n",
    "\n",
    "# Resample each group to have the same number of samples\n",
    "group_0_recidivate = resample_group(group_0[group_0['two_year_recid'] == 1], max_group_size)\n",
    "group_1_recidivate = resample_group(group_1[group_1['two_year_recid'] == 1], max_group_size)\n",
    "\n",
    "group_0_not_recidivate = resample_group(group_0[group_0['two_year_recid'] == 0], max_group_size)\n",
    "group_1_not_recidivate = resample_group(group_1[group_1['two_year_recid'] == 0], max_group_size)\n",
    "\n",
    "# Combine the resampled data back\n",
    "df_upsampled_race = pd.concat([group_0_recidivate, group_0_not_recidivate, group_1_recidivate, group_1_not_recidivate])\n",
    "\n",
    "# Shuffle the resampled data\n",
    "df_upsampled_race = df_upsampled_race.sample(frac=1).reset_index(drop=True)\n",
    "\n",
    "# Data Preparation\n",
    "X = df_upsampled_race.drop(['two_year_recid'], axis=1)\n",
    "y = df_upsampled_race['two_year_recid']\n",
    "\n",
    "# Splitting the dataset into training and testing sets\n",
    "X_train, X_test, y_train, y_test = train_test_split(X, y, test_size=0.3, random_state=42)\n",
    "\n",
    "# Remove sex and race from the training data\n",
    "X_train = X_train.drop(['sex', 'race'], axis=1)\n",
    "sensitive_feature_race = X_test['race']\n",
    "sensitive_feature_sex = X_test['sex']\n",
    "X_test = X_test.drop(['sex', 'race'], axis=1)\n",
    "\n",
    "# Initialize the Gradient Boosting classifier\n",
    "gb_classifier = GradientBoostingClassifier(learning_rate=0.01, \n",
    "                                           max_depth=3, \n",
    "                                           n_estimators=300, \n",
    "                                           random_state=42)\n",
    "\n",
    "# Fit the grid search to the data\n",
    "gb_classifier.fit(X_train, y_train)\n",
    "\n",
    "# Evaluate the model on the test set\n",
    "y_pred_gb = gb_classifier.predict(X_test)\n",
    "\n",
    "model_accuracy_gb = accuracy_score(y_test, y_pred_gb)\n",
    "AUC = roc_auc_score(y_test, y_pred_gb)\n",
    "f1 = f1_score(y_test, y_pred_gb)\n",
    "precision = precision_score(y_test, y_pred_gb)\n",
    "recall = recall_score(y_test, y_pred_gb)\n",
    "\n",
    "statistical_parity_race = statistical_parity(y_test, y_pred_gb, sensitive_feature_race)\n",
    "equalized_odds_race = equalized_odds(y_test, y_pred_gb, sensitive_feature_race)\n",
    "\n",
    "statistical_parity_sex = statistical_parity(y_test, y_pred_gb, sensitive_feature_sex)\n",
    "equalized_odds_sex = equalized_odds(y_test, y_pred_gb, sensitive_feature_sex)\n",
    "\n",
    "resampling_results_df = update_results(\n",
    "    resampling_group='Upsampled_Race',\n",
    "    model_accuracy=model_accuracy_gb,  \n",
    "    AUC=AUC,  \n",
    "    f1=f1, \n",
    "    precision=precision,  \n",
    "    recall=recall, \n",
    "    statistical_parity_race = statistical_parity_race, \n",
    "    equalized_odds_race = equalized_odds_race\n",
    ")"
   ]
  },
  {
   "cell_type": "code",
   "execution_count": 60,
   "outputs": [
    {
     "data": {
      "text/plain": "  resampling_group  model_accuracy       AUC        f1  precision    recall  \\\n0   Upsampled_Race        0.660983  0.661613  0.640808   0.689143  0.598808   \n\n                             statistical_parity_race  \\\n0  {'Statistical Parity Difference': 0.184, 'Stat...   \n\n                                 equalized_odds_race  \n0  {'Equalized Odds Difference': 0.209, 'Equalize...  ",
      "text/html": "<div>\n<style scoped>\n    .dataframe tbody tr th:only-of-type {\n        vertical-align: middle;\n    }\n\n    .dataframe tbody tr th {\n        vertical-align: top;\n    }\n\n    .dataframe thead th {\n        text-align: right;\n    }\n</style>\n<table border=\"1\" class=\"dataframe\">\n  <thead>\n    <tr style=\"text-align: right;\">\n      <th></th>\n      <th>resampling_group</th>\n      <th>model_accuracy</th>\n      <th>AUC</th>\n      <th>f1</th>\n      <th>precision</th>\n      <th>recall</th>\n      <th>statistical_parity_race</th>\n      <th>equalized_odds_race</th>\n    </tr>\n  </thead>\n  <tbody>\n    <tr>\n      <th>0</th>\n      <td>Upsampled_Race</td>\n      <td>0.660983</td>\n      <td>0.661613</td>\n      <td>0.640808</td>\n      <td>0.689143</td>\n      <td>0.598808</td>\n      <td>{'Statistical Parity Difference': 0.184, 'Stat...</td>\n      <td>{'Equalized Odds Difference': 0.209, 'Equalize...</td>\n    </tr>\n  </tbody>\n</table>\n</div>"
     },
     "execution_count": 60,
     "metadata": {},
     "output_type": "execute_result"
    }
   ],
   "source": [
    "resampling_results_df"
   ],
   "metadata": {
    "collapsed": false,
    "ExecuteTime": {
     "end_time": "2023-11-24T12:14:37.563683Z",
     "start_time": "2023-11-24T12:14:37.546968Z"
    }
   },
   "id": "b3d302b1ec2efbcd"
  },
  {
   "cell_type": "markdown",
   "id": "5f9878b9-7ca4-4eb8-b61a-ede8639050bc",
   "metadata": {},
   "source": [
    "## 2. Downsampled_Race"
   ]
  },
  {
   "cell_type": "code",
   "execution_count": 61,
   "id": "96232496-0d11-47d6-80a5-859af0fc7e96",
   "metadata": {
    "ExecuteTime": {
     "end_time": "2023-11-24T12:14:51.341324Z",
     "start_time": "2023-11-24T12:14:51.029741Z"
    }
   },
   "outputs": [],
   "source": [
    "# Upsampling RACE feature\n",
    "group_1 = df[df['race'] == 1]\n",
    "group_0 = df[df['race'] == 0]\n",
    "\n",
    "\n",
    "# Function to resample each subgroup to have the same number of samples\n",
    "def resample_group(df, group_size):\n",
    "    return df.sample(n=group_size, replace=True, random_state=42)\n",
    "\n",
    "min_group_size = min(len(group_0[group_0['two_year_recid'] == 1]), len(group_1[group_1['two_year_recid'] == 1]))\n",
    "\n",
    "# Resample each group to have the same number of samples\n",
    "group_0_recidivate = resample_group(group_0[group_0['two_year_recid'] == 1], min_group_size)\n",
    "group_1_recidivate = resample_group(group_1[group_1['two_year_recid'] == 1], min_group_size)\n",
    "\n",
    "group_0_not_recidivate = resample_group(group_0[group_0['two_year_recid'] == 0], min_group_size)\n",
    "group_1_not_recidivate = resample_group(group_1[group_1['two_year_recid'] == 0], min_group_size)\n",
    "\n",
    "# Combine the resampled data back\n",
    "df_downsampled_race = pd.concat([group_0_recidivate, group_0_not_recidivate, group_1_recidivate, group_1_not_recidivate])\n",
    "\n",
    "# Shuffle the resampled data\n",
    "df_downsampled_race = df_downsampled_race.sample(frac=1).reset_index(drop=True)\n",
    "\n",
    "# Data Preparation\n",
    "X = df_downsampled_race.drop(['two_year_recid'], axis=1)\n",
    "y = df_downsampled_race['two_year_recid']\n",
    "\n",
    "# Splitting the dataset into training and testing sets\n",
    "X_train, X_test, y_train, y_test = train_test_split(X, y, test_size=0.3, random_state=42)\n",
    "\n",
    "# Remove sex and race from the training data\n",
    "X_train = X_train.drop(['sex', 'race'], axis=1)\n",
    "sensitive_feature_race = X_test['race']\n",
    "sensitive_feature_sex = X_test['sex']\n",
    "X_test = X_test.drop(['sex', 'race'], axis=1)\n",
    "\n",
    "# Initialize the Gradient Boosting classifier\n",
    "gb_classifier = GradientBoostingClassifier(learning_rate=0.01, \n",
    "                                           max_depth=3, \n",
    "                                           n_estimators=300, \n",
    "                                           random_state=42)\n",
    "\n",
    "# Fit the grid search to the data\n",
    "gb_classifier.fit(X_train, y_train)\n",
    "\n",
    "# Evaluate the model on the test set\n",
    "y_pred_gb = gb_classifier.predict(X_test)\n",
    "\n",
    "model_accuracy_gb = accuracy_score(y_test, y_pred_gb)\n",
    "AUC = roc_auc_score(y_test, y_pred_gb)\n",
    "f1 = f1_score(y_test, y_pred_gb)\n",
    "precision = precision_score(y_test, y_pred_gb)\n",
    "recall = recall_score(y_test, y_pred_gb)\n",
    "\n",
    "statistical_parity_race = statistical_parity(y_test, y_pred_gb, sensitive_feature_race)\n",
    "equalized_odds_race = equalized_odds(y_test, y_pred_gb, sensitive_feature_race)\n",
    "\n",
    "resampling_results_df = update_results(\n",
    "    resampling_group='Downsampled_Race',\n",
    "    model_accuracy=model_accuracy_gb,  \n",
    "    AUC=AUC,  \n",
    "    f1=f1, \n",
    "    precision=precision,  \n",
    "    recall=recall, \n",
    "    statistical_parity_race = statistical_parity_race, \n",
    "    equalized_odds_race = equalized_odds_race\n",
    ")"
   ]
  },
  {
   "cell_type": "code",
   "execution_count": 62,
   "outputs": [
    {
     "data": {
      "text/plain": "   resampling_group  model_accuracy       AUC        f1  precision    recall  \\\n1  Downsampled_Race        0.626140  0.627239  0.601081   0.655660  0.554890   \n0    Upsampled_Race        0.660983  0.661613  0.640808   0.689143  0.598808   \n\n                             statistical_parity_race  \\\n1  {'Statistical Parity Difference': 0.218, 'Stat...   \n0  {'Statistical Parity Difference': 0.184, 'Stat...   \n\n                                 equalized_odds_race  \n1  {'Equalized Odds Difference': 0.278, 'Equalize...  \n0  {'Equalized Odds Difference': 0.209, 'Equalize...  ",
      "text/html": "<div>\n<style scoped>\n    .dataframe tbody tr th:only-of-type {\n        vertical-align: middle;\n    }\n\n    .dataframe tbody tr th {\n        vertical-align: top;\n    }\n\n    .dataframe thead th {\n        text-align: right;\n    }\n</style>\n<table border=\"1\" class=\"dataframe\">\n  <thead>\n    <tr style=\"text-align: right;\">\n      <th></th>\n      <th>resampling_group</th>\n      <th>model_accuracy</th>\n      <th>AUC</th>\n      <th>f1</th>\n      <th>precision</th>\n      <th>recall</th>\n      <th>statistical_parity_race</th>\n      <th>equalized_odds_race</th>\n    </tr>\n  </thead>\n  <tbody>\n    <tr>\n      <th>1</th>\n      <td>Downsampled_Race</td>\n      <td>0.626140</td>\n      <td>0.627239</td>\n      <td>0.601081</td>\n      <td>0.655660</td>\n      <td>0.554890</td>\n      <td>{'Statistical Parity Difference': 0.218, 'Stat...</td>\n      <td>{'Equalized Odds Difference': 0.278, 'Equalize...</td>\n    </tr>\n    <tr>\n      <th>0</th>\n      <td>Upsampled_Race</td>\n      <td>0.660983</td>\n      <td>0.661613</td>\n      <td>0.640808</td>\n      <td>0.689143</td>\n      <td>0.598808</td>\n      <td>{'Statistical Parity Difference': 0.184, 'Stat...</td>\n      <td>{'Equalized Odds Difference': 0.209, 'Equalize...</td>\n    </tr>\n  </tbody>\n</table>\n</div>"
     },
     "execution_count": 62,
     "metadata": {},
     "output_type": "execute_result"
    }
   ],
   "source": [
    "resampling_results_df"
   ],
   "metadata": {
    "collapsed": false,
    "ExecuteTime": {
     "end_time": "2023-11-24T12:14:53.485693Z",
     "start_time": "2023-11-24T12:14:53.474857Z"
    }
   },
   "id": "4d3082bdef54b712"
  },
  {
   "cell_type": "code",
   "execution_count": null,
   "outputs": [],
   "source": [],
   "metadata": {
    "collapsed": false
   },
   "id": "1997d4c736fd736c"
  }
 ],
 "metadata": {
  "kernelspec": {
   "display_name": "Python 3 (ipykernel)",
   "language": "python",
   "name": "python3"
  },
  "language_info": {
   "codemirror_mode": {
    "name": "ipython",
    "version": 3
   },
   "file_extension": ".py",
   "mimetype": "text/x-python",
   "name": "python",
   "nbconvert_exporter": "python",
   "pygments_lexer": "ipython3",
   "version": "3.9.12"
  }
 },
 "nbformat": 4,
 "nbformat_minor": 5
}
